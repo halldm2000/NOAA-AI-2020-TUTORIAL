{
  "nbformat": 4,
  "nbformat_minor": 0,
  "metadata": {
    "colab": {
      "name": "Page3.ipynb",
      "provenance": [],
      "collapsed_sections": [],
      "authorship_tag": "ABX9TyMby87FNF2VSIcegt+q6Kx5",
      "include_colab_link": true
    },
    "kernelspec": {
      "name": "python3",
      "display_name": "Python 3"
    },
    "widgets": {
      "application/vnd.jupyter.widget-state+json": {
        "5437ce71bc564b9d8aec06898460665c": {
          "model_module": "@jupyter-widgets/controls",
          "model_name": "VBoxModel",
          "state": {
            "_view_name": "VBoxView",
            "_dom_classes": [
              "widget-interact"
            ],
            "_model_name": "VBoxModel",
            "_view_module": "@jupyter-widgets/controls",
            "_model_module_version": "1.5.0",
            "_view_count": null,
            "_view_module_version": "1.5.0",
            "box_style": "",
            "layout": "IPY_MODEL_aad5df4fddc246cebe303075353e8ea9",
            "_model_module": "@jupyter-widgets/controls",
            "children": [
              "IPY_MODEL_1772b008a3454e6cbcb9236f733c922b",
              "IPY_MODEL_da52337997de466598239105b4c5ba96",
              "IPY_MODEL_6112ac5d8b66403f872fc1dc013c25bf"
            ]
          }
        },
        "aad5df4fddc246cebe303075353e8ea9": {
          "model_module": "@jupyter-widgets/base",
          "model_name": "LayoutModel",
          "state": {
            "_view_name": "LayoutView",
            "grid_template_rows": null,
            "right": null,
            "justify_content": null,
            "_view_module": "@jupyter-widgets/base",
            "overflow": null,
            "_model_module_version": "1.2.0",
            "_view_count": null,
            "flex_flow": null,
            "width": null,
            "min_width": null,
            "border": null,
            "align_items": null,
            "bottom": null,
            "_model_module": "@jupyter-widgets/base",
            "top": null,
            "grid_column": null,
            "overflow_y": null,
            "overflow_x": null,
            "grid_auto_flow": null,
            "grid_area": null,
            "grid_template_columns": null,
            "flex": null,
            "_model_name": "LayoutModel",
            "justify_items": null,
            "grid_row": null,
            "max_height": null,
            "align_content": null,
            "visibility": null,
            "align_self": null,
            "height": null,
            "min_height": null,
            "padding": null,
            "grid_auto_rows": null,
            "grid_gap": null,
            "max_width": null,
            "order": null,
            "_view_module_version": "1.2.0",
            "grid_template_areas": null,
            "object_position": null,
            "object_fit": null,
            "grid_auto_columns": null,
            "margin": null,
            "display": null,
            "left": null
          }
        },
        "1772b008a3454e6cbcb9236f733c922b": {
          "model_module": "@jupyter-widgets/controls",
          "model_name": "FloatSliderModel",
          "state": {
            "_view_name": "FloatSliderView",
            "style": "IPY_MODEL_36fe2aebbc3e44b08d729097ae93ee97",
            "_dom_classes": [],
            "description": "m",
            "step": 0.01,
            "_model_name": "FloatSliderModel",
            "orientation": "horizontal",
            "max": 2,
            "_view_module": "@jupyter-widgets/controls",
            "_model_module_version": "1.5.0",
            "value": 0,
            "_view_count": null,
            "disabled": false,
            "_view_module_version": "1.5.0",
            "min": -2,
            "continuous_update": false,
            "readout_format": ".2f",
            "description_tooltip": null,
            "readout": true,
            "_model_module": "@jupyter-widgets/controls",
            "layout": "IPY_MODEL_3bef6b09f385431c8ff70a6da4666a59"
          }
        },
        "da52337997de466598239105b4c5ba96": {
          "model_module": "@jupyter-widgets/controls",
          "model_name": "FloatSliderModel",
          "state": {
            "_view_name": "FloatSliderView",
            "style": "IPY_MODEL_a68b1e13a884461ea46d46765cb5277d",
            "_dom_classes": [],
            "description": "b",
            "step": 0.05,
            "_model_name": "FloatSliderModel",
            "orientation": "horizontal",
            "max": 3,
            "_view_module": "@jupyter-widgets/controls",
            "_model_module_version": "1.5.0",
            "value": 0,
            "_view_count": null,
            "disabled": false,
            "_view_module_version": "1.5.0",
            "min": -3,
            "continuous_update": true,
            "readout_format": ".2f",
            "description_tooltip": null,
            "readout": true,
            "_model_module": "@jupyter-widgets/controls",
            "layout": "IPY_MODEL_6a6a465373ba4bf6afd69bc670b710d2"
          }
        },
        "6112ac5d8b66403f872fc1dc013c25bf": {
          "model_module": "@jupyter-widgets/output",
          "model_name": "OutputModel",
          "state": {
            "_view_name": "OutputView",
            "msg_id": "",
            "_dom_classes": [],
            "_model_name": "OutputModel",
            "outputs": [
              {
                "output_type": "display_data",
                "metadata": {
                  "tags": []
                },
                "image/png": "iVBORw0KGgoAAAANSUhEUgAAA6AAAAHSCAYAAADysKZSAAAABHNCSVQICAgIfAhkiAAAAAlwSFlz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\nTkSuQmCC\n",
                "text/plain": "<Figure size 1152x576 with 1 Axes>"
              }
            ],
            "_view_module": "@jupyter-widgets/output",
            "_model_module_version": "1.0.0",
            "_view_count": null,
            "_view_module_version": "1.0.0",
            "layout": "IPY_MODEL_4b6bbd2e40254dc1b80239fbf4d844a6",
            "_model_module": "@jupyter-widgets/output"
          }
        },
        "36fe2aebbc3e44b08d729097ae93ee97": {
          "model_module": "@jupyter-widgets/controls",
          "model_name": "SliderStyleModel",
          "state": {
            "_view_name": "StyleView",
            "handle_color": null,
            "_model_name": "SliderStyleModel",
            "description_width": "",
            "_view_module": "@jupyter-widgets/base",
            "_model_module_version": "1.5.0",
            "_view_count": null,
            "_view_module_version": "1.2.0",
            "_model_module": "@jupyter-widgets/controls"
          }
        },
        "3bef6b09f385431c8ff70a6da4666a59": {
          "model_module": "@jupyter-widgets/base",
          "model_name": "LayoutModel",
          "state": {
            "_view_name": "LayoutView",
            "grid_template_rows": null,
            "right": null,
            "justify_content": null,
            "_view_module": "@jupyter-widgets/base",
            "overflow": null,
            "_model_module_version": "1.2.0",
            "_view_count": null,
            "flex_flow": null,
            "width": null,
            "min_width": null,
            "border": null,
            "align_items": null,
            "bottom": null,
            "_model_module": "@jupyter-widgets/base",
            "top": null,
            "grid_column": null,
            "overflow_y": null,
            "overflow_x": null,
            "grid_auto_flow": null,
            "grid_area": null,
            "grid_template_columns": null,
            "flex": null,
            "_model_name": "LayoutModel",
            "justify_items": null,
            "grid_row": null,
            "max_height": null,
            "align_content": null,
            "visibility": null,
            "align_self": null,
            "height": null,
            "min_height": null,
            "padding": null,
            "grid_auto_rows": null,
            "grid_gap": null,
            "max_width": null,
            "order": null,
            "_view_module_version": "1.2.0",
            "grid_template_areas": null,
            "object_position": null,
            "object_fit": null,
            "grid_auto_columns": null,
            "margin": null,
            "display": null,
            "left": null
          }
        },
        "a68b1e13a884461ea46d46765cb5277d": {
          "model_module": "@jupyter-widgets/controls",
          "model_name": "SliderStyleModel",
          "state": {
            "_view_name": "StyleView",
            "handle_color": null,
            "_model_name": "SliderStyleModel",
            "description_width": "",
            "_view_module": "@jupyter-widgets/base",
            "_model_module_version": "1.5.0",
            "_view_count": null,
            "_view_module_version": "1.2.0",
            "_model_module": "@jupyter-widgets/controls"
          }
        },
        "6a6a465373ba4bf6afd69bc670b710d2": {
          "model_module": "@jupyter-widgets/base",
          "model_name": "LayoutModel",
          "state": {
            "_view_name": "LayoutView",
            "grid_template_rows": null,
            "right": null,
            "justify_content": null,
            "_view_module": "@jupyter-widgets/base",
            "overflow": null,
            "_model_module_version": "1.2.0",
            "_view_count": null,
            "flex_flow": null,
            "width": null,
            "min_width": null,
            "border": null,
            "align_items": null,
            "bottom": null,
            "_model_module": "@jupyter-widgets/base",
            "top": null,
            "grid_column": null,
            "overflow_y": null,
            "overflow_x": null,
            "grid_auto_flow": null,
            "grid_area": null,
            "grid_template_columns": null,
            "flex": null,
            "_model_name": "LayoutModel",
            "justify_items": null,
            "grid_row": null,
            "max_height": null,
            "align_content": null,
            "visibility": null,
            "align_self": null,
            "height": null,
            "min_height": null,
            "padding": null,
            "grid_auto_rows": null,
            "grid_gap": null,
            "max_width": null,
            "order": null,
            "_view_module_version": "1.2.0",
            "grid_template_areas": null,
            "object_position": null,
            "object_fit": null,
            "grid_auto_columns": null,
            "margin": null,
            "display": null,
            "left": null
          }
        }
      }
    }
  },
  "cells": [
    {
      "cell_type": "markdown",
      "metadata": {
        "id": "view-in-github",
        "colab_type": "text"
      },
      "source": [
        "<a href=\"https://colab.research.google.com/github/halldm2000/NOAA-AI-2020-TUTORIAL/blob/master/Page3.ipynb\" target=\"_parent\"><img src=\"https://colab.research.google.com/assets/colab-badge.svg\" alt=\"Open In Colab\"/></a>"
      ]
    },
    {
      "cell_type": "markdown",
      "metadata": {
        "id": "C9fA4Ltukd8Q",
        "colab_type": "text"
      },
      "source": [
        "### **Fit a straight line to some data**\n",
        "- Deep learning is a very powerful technique\n",
        "- But it is also just a generalization of curve fitting\n",
        "- Lets try performing a curve fit manually to build up some intuition"
      ]
    },
    {
      "cell_type": "code",
      "metadata": {
        "id": "K5QNcM_eyJhD",
        "colab_type": "code",
        "outputId": "1d5ff854-7687-4faa-af6b-870940e46aca",
        "colab": {
          "base_uri": "https://localhost:8080/",
          "height": 547,
          "referenced_widgets": [
            "5437ce71bc564b9d8aec06898460665c",
            "aad5df4fddc246cebe303075353e8ea9",
            "1772b008a3454e6cbcb9236f733c922b",
            "da52337997de466598239105b4c5ba96",
            "6112ac5d8b66403f872fc1dc013c25bf",
            "36fe2aebbc3e44b08d729097ae93ee97",
            "3bef6b09f385431c8ff70a6da4666a59",
            "a68b1e13a884461ea46d46765cb5277d",
            "6a6a465373ba4bf6afd69bc670b710d2"
          ]
        }
      },
      "source": [
        "%matplotlib inline\n",
        "from ipywidgets import interactive, FloatSlider\n",
        "import matplotlib.pyplot as plt\n",
        "import numpy as np\n",
        "\n",
        "def f(m,b):\n",
        "  fig = plt.figure(figsize=(16,8))\n",
        "  x = np.linspace(-10,10,num=100)\n",
        "  y = m*x + b\n",
        "  plt.plot(x, y,'-')\n",
        "  plt.ylim(-5,5)\n",
        "  fig.show()\n",
        "\n",
        "interactive_plot = interactive(f,\n",
        "                               m=FloatSlider(min=-2,max=2,step=0.01, continuous_update =False),\n",
        "                               b=FloatSlider(min=-3,max=3,step=0.05),continuous_update = False)\n",
        "output = interactive_plot.children[-1]\n",
        "output.layout.height='800px'\n",
        "interactive_plot\n"
      ],
      "execution_count": 10,
      "outputs": [
        {
          "output_type": "display_data",
          "data": {
            "application/vnd.jupyter.widget-view+json": {
              "model_id": "5437ce71bc564b9d8aec06898460665c",
              "version_minor": 0,
              "version_major": 2
            },
            "text/plain": [
              "interactive(children=(FloatSlider(value=0.0, continuous_update=False, description='m', max=2.0, min=-2.0, step…"
            ]
          },
          "metadata": {
            "tags": []
          }
        }
      ]
    },
    {
      "cell_type": "code",
      "metadata": {
        "id": "-1mW3neG7GlM",
        "colab_type": "code",
        "colab": {}
      },
      "source": [
        ""
      ],
      "execution_count": 0,
      "outputs": []
    }
  ]
}