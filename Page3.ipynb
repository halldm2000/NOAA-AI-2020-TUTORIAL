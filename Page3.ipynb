{
  "nbformat": 4,
  "nbformat_minor": 0,
  "metadata": {
    "colab": {
      "name": "Page3.ipynb",
      "provenance": [],
      "collapsed_sections": [],
      "authorship_tag": "ABX9TyPAGP2YTKVOLx418NZhlA5I",
      "include_colab_link": true
    },
    "kernelspec": {
      "name": "python3",
      "display_name": "Python 3"
    },
    "widgets": {
      "application/vnd.jupyter.widget-state+json": {
        "829c097028534b2287e6820591aabc84": {
          "model_module": "@jupyter-widgets/controls",
          "model_name": "IntSliderModel",
          "state": {
            "_view_name": "IntSliderView",
            "style": "IPY_MODEL_24aeb20cb15641c3a97b307c8c901a3b",
            "_dom_classes": [],
            "description": "",
            "step": 1,
            "_model_name": "IntSliderModel",
            "orientation": "horizontal",
            "max": 10,
            "_view_module": "@jupyter-widgets/controls",
            "_model_module_version": "1.5.0",
            "value": 1,
            "_view_count": null,
            "disabled": false,
            "_view_module_version": "1.5.0",
            "min": 1,
            "continuous_update": true,
            "readout_format": "d",
            "description_tooltip": null,
            "readout": true,
            "_model_module": "@jupyter-widgets/controls",
            "layout": "IPY_MODEL_03b6f76d7c78469a968af5132e071b49"
          }
        }
      }
    }
  },
  "cells": [
    {
      "cell_type": "markdown",
      "metadata": {
        "id": "view-in-github",
        "colab_type": "text"
      },
      "source": [
        "<a href=\"https://colab.research.google.com/github/halldm2000/NOAA-AI-2020-TUTORIAL/blob/master/Page3.ipynb\" target=\"_parent\"><img src=\"https://colab.research.google.com/assets/colab-badge.svg\" alt=\"Open In Colab\"/></a>"
      ]
    },
    {
      "cell_type": "markdown",
      "metadata": {
        "id": "C9fA4Ltukd8Q",
        "colab_type": "text"
      },
      "source": [
        "### **Fit a straight line to some data**\n",
        "- There are a lot of great deep learning frameworks one can use\n",
        "- We will practice with both **Tensorflow** and **PyTorch**"
      ]
    },
    {
      "cell_type": "code",
      "metadata": {
        "id": "kBwfq2R8ajVK",
        "colab_type": "code",
        "colab": {}
      },
      "source": [
        "# ensure we are using Tensorflow version 2\n",
        "%tensorflow_version 2.x "
      ],
      "execution_count": 0,
      "outputs": []
    },
    {
      "cell_type": "code",
      "metadata": {
        "id": "Jx4VjR3chCK-",
        "colab_type": "code",
        "colab": {
          "base_uri": "https://localhost:8080/",
          "height": 17,
          "referenced_widgets": [
            "829c097028534b2287e6820591aabc84"
          ]
        },
        "outputId": "c3b84b21-4655-4865-f763-9671d1fc7b04"
      },
      "source": [
        "import ipywidgets as widgets\n",
        "slider = widgets.IntSlider(min=1,max=10)\n",
        "display(slider)"
      ],
      "execution_count": 32,
      "outputs": [
        {
          "output_type": "display_data",
          "data": {
            "application/vnd.jupyter.widget-view+json": {
              "model_id": "829c097028534b2287e6820591aabc84",
              "version_minor": 0,
              "version_major": 2
            },
            "text/plain": [
              "IntSlider(value=1, max=10, min=1)"
            ]
          },
          "metadata": {
            "tags": []
          }
        }
      ]
    }
  ]
}