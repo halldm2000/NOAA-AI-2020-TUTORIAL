{
  "nbformat": 4,
  "nbformat_minor": 0,
  "metadata": {
    "colab": {
      "name": "IntroToColab.ipynb",
      "provenance": [],
      "collapsed_sections": [],
      "include_colab_link": true
    },
    "kernelspec": {
      "name": "python3",
      "display_name": "Python 3"
    },
    "accelerator": "GPU"
  },
  "cells": [
    {
      "cell_type": "markdown",
      "metadata": {
        "id": "view-in-github",
        "colab_type": "text"
      },
      "source": [
        "<a href=\"https://colab.research.google.com/github/halldm2000/NOAA-AI-2020-TUTORIAL/blob/master/01_IntroToColab/IntroToColab.ipynb\" target=\"_parent\"><img src=\"https://colab.research.google.com/assets/colab-badge.svg\" alt=\"Open In Colab\"/></a>"
      ]
    },
    {
      "cell_type": "markdown",
      "metadata": {
        "id": "XiHoCodlS_OC"
      },
      "source": [
        "### **<font color=\"Crimson\">NOAA 2nd Annual AI Workshop - Tutorial</font>**\n",
        "\n",
        "From **github**, you can launch this page by clicking on the \"Open in Colab\" badge.\n",
        "\n",
        "<br>\n",
        "\n",
        "### **This Tutorial uses Google Colab.**\n",
        "\n",
        "![colab logo](https://github.com/halldm2000/NOAA-AI-2020-TUTORIAL/blob/master/Images/colab.png?raw=true)\n",
        "\n",
        "<br>\n",
        "\n",
        "- Google Colab provides a **Jupyter notebook** on a Google server.\n",
        "- Jupyter is an interactive coding environment in your web browser. \n",
        "- Colab is free and proveds access to a single **NVIDIA GPU**.\n",
        "- NVIDIA GPUs make deep learning far more practical.\n",
        "- Press **`[Shift] + [Enter]`** to run this each and move on to the next one.\n"
      ]
    },
    {
      "cell_type": "markdown",
      "metadata": {
        "id": "7UUk-Eu0SfQj"
      },
      "source": [
        "### **Launch a GPU Kernel.**\n",
        "\n",
        "- Let's use the GPU that Colab is providing\n",
        "- Click on the menu item <b>Runtime $\\rightarrow$ Change runtime type </b>\n",
        "- Choose Hardware accelerator: **GPU**\n",
        "\n",
        "<br>\n",
        "\n",
        "![alt text](https://github.com/halldm2000/NOAA-AI-2020-TUTORIAL/blob/master/Images/p100.jpg?raw=true)\n",
        "\n",
        "<br>\n",
        "\n",
        "### **Check to see which GPU was provided.**\n",
        "\n",
        "- An exclamation point **!** at the start of the line lets you execute a **linux shell command**\n",
        "- `nvidia-smi` is the **NVIDIA System Management Interface** \n",
        "- In the past Colab provided only **K80**'s which are older GPUs\n",
        "- But now you might be assigned a **Tesla P100** or **Tesla T4**, both of which are more powerful.\n"
      ]
    },
    {
      "cell_type": "code",
      "metadata": {
        "id": "c3aOqiFCE0UW",
        "outputId": "4f7916e7-bf17-4e04-e4bf-0c8547a7aa73",
        "colab": {
          "base_uri": "https://localhost:8080/"
        }
      },
      "source": [
        "!/opt/bin/nvidia-smi"
      ],
      "execution_count": 25,
      "outputs": [
        {
          "output_type": "stream",
          "text": [
            "Wed Nov  4 16:31:31 2020       \n",
            "+-----------------------------------------------------------------------------+\n",
            "| NVIDIA-SMI 418.67       Driver Version: 418.67       CUDA Version: 10.1     |\n",
            "|-------------------------------+----------------------+----------------------+\n",
            "| GPU  Name        Persistence-M| Bus-Id        Disp.A | Volatile Uncorr. ECC |\n",
            "| Fan  Temp  Perf  Pwr:Usage/Cap|         Memory-Usage | GPU-Util  Compute M. |\n",
            "|===============================+======================+======================|\n",
            "|   0  Tesla T4            Off  | 00000000:00:04.0 Off |                    0 |\n",
            "| N/A   35C    P8     9W /  70W |      0MiB / 15079MiB |      0%      Default |\n",
            "+-------------------------------+----------------------+----------------------+\n",
            "                                                                               \n",
            "+-----------------------------------------------------------------------------+\n",
            "| Processes:                                                       GPU Memory |\n",
            "|  GPU       PID   Type   Process name                             Usage      |\n",
            "|=============================================================================|\n",
            "|  No running processes found                                                 |\n",
            "+-----------------------------------------------------------------------------+\n"
          ],
          "name": "stdout"
        }
      ]
    },
    {
      "cell_type": "code",
      "metadata": {
        "id": "7sihuz4QG93r"
      },
      "source": [
        "#TODO: use nvidia-smi -q to get detailed GPU information\n"
      ],
      "execution_count": 33,
      "outputs": []
    },
    {
      "cell_type": "markdown",
      "metadata": {
        "id": "HbKiuB0KBNLy"
      },
      "source": [
        "### **How much memory and disk space is available?**\n",
        "- Check how much ram and disk space are available for use"
      ]
    },
    {
      "cell_type": "code",
      "metadata": {
        "id": "zPZ62UGnA7xP",
        "outputId": "daa5c6f4-9467-4941-ce54-62799bbd2f7a",
        "colab": {
          "base_uri": "https://localhost:8080/"
        }
      },
      "source": [
        "# check available RAM\n",
        "!free -mh"
      ],
      "execution_count": 35,
      "outputs": [
        {
          "output_type": "stream",
          "text": [
            "              total        used        free      shared  buff/cache   available\n",
            "Mem:            12G        606M        9.9G        968K        2.2G         11G\n",
            "Swap:            0B          0B          0B\n"
          ],
          "name": "stdout"
        }
      ]
    },
    {
      "cell_type": "code",
      "metadata": {
        "id": "V7tLTasmX6PE",
        "outputId": "c50a3b91-7ea2-484a-a7e3-148c652eaab9",
        "colab": {
          "base_uri": "https://localhost:8080/"
        }
      },
      "source": [
        "# check available hard disk space\n",
        "!df -h / | awk '{print $4}'"
      ],
      "execution_count": 36,
      "outputs": [
        {
          "output_type": "stream",
          "text": [
            "Avail\n",
            "35G\n"
          ],
          "name": "stdout"
        }
      ]
    },
    {
      "cell_type": "markdown",
      "metadata": {
        "id": "glm4Xa6jEBjT"
      },
      "source": [
        "- Or, **Hover your pointer** over the `RAM, Disk` bars at the top right portion of the page. \n",
        "- This **is** a quick, simple way to see CPU resources"
      ]
    },
    {
      "cell_type": "markdown",
      "metadata": {
        "id": "lxhzBfUzFpuV"
      },
      "source": [
        "### **View contextual completions as you type**\n",
        "- Slowly type the command `np.zeros()`\n",
        "- Colab automatically shows likely completetions at each step. \n",
        "- You can press [Enter] to accept a given suggestion.\n",
        "- When you type the first parenthesis `(`, it brings up the first few lines of the funtion documentation\n"
      ]
    },
    {
      "cell_type": "code",
      "metadata": {
        "id": "p4c--UyHHoWf"
      },
      "source": [
        "import numpy as np"
      ],
      "execution_count": 37,
      "outputs": []
    },
    {
      "cell_type": "code",
      "metadata": {
        "id": "WqKJm_UXDsLT",
        "outputId": "04e8dbf0-0570-41cb-bcfe-d7fe50da87ed",
        "colab": {
          "base_uri": "https://localhost:8080/"
        }
      },
      "source": [
        "#TODO: type np.zeros(3) slowly... to see code completion options. \n",
        "np.zeros(3)"
      ],
      "execution_count": 47,
      "outputs": [
        {
          "output_type": "execute_result",
          "data": {
            "text/plain": [
              "array([0., 0., 0.])"
            ]
          },
          "metadata": {
            "tags": []
          },
          "execution_count": 47
        }
      ]
    },
    {
      "cell_type": "markdown",
      "metadata": {
        "id": "4YASmSCRAaMc"
      },
      "source": [
        "### **Mount your own Google Drive to keep files longer than one session**\n",
        "\n",
        "Colab will kill your session after a maximum of 12 hours, or if you don't interact with your notebook for a while. To keep trained neural networks and other files you can mount your own google drive."
      ]
    },
    {
      "cell_type": "code",
      "metadata": {
        "id": "bi3y9o9wAFm5",
        "outputId": "84462c21-58f5-4a2b-b209-95ac442548ca",
        "colab": {
          "base_uri": "https://localhost:8080/"
        }
      },
      "source": [
        "from google.colab import drive\n",
        "drive.mount('/content/drive')"
      ],
      "execution_count": 13,
      "outputs": [
        {
          "output_type": "stream",
          "text": [
            "Mounted at /content/drive\n"
          ],
          "name": "stdout"
        }
      ]
    },
    {
      "cell_type": "code",
      "metadata": {
        "id": "QsHz34krDHTd",
        "outputId": "58a24e32-b0e5-4eb8-d75c-7fc19693a116",
        "colab": {
          "base_uri": "https://localhost:8080/"
        }
      },
      "source": [
        "# make a file called test.txt and store it in your google drive\n",
        "with open('/content/drive/My Drive/test.txt', 'w') as f:\n",
        "  f.write('Hello Google Drive!')\n",
        "\n",
        "# print the contents of test.txt\n",
        "!cat /content/drive/'My Drive'/test.txt"
      ],
      "execution_count": 7,
      "outputs": [
        {
          "output_type": "stream",
          "text": [
            "Hello Google Drive!"
          ],
          "name": "stdout"
        }
      ]
    },
    {
      "cell_type": "markdown",
      "metadata": {
        "id": "CS9D1oNqFri0"
      },
      "source": [
        "### **Get help by adding a question mark** `?`###\n",
        "\n",
        "`Matplotlib` is the most commonly used plotting package in Python. \n",
        "\n",
        "Let's use help information to learn more about how to use its `plot` function\n"
      ]
    },
    {
      "cell_type": "code",
      "metadata": {
        "id": "I0vGPs2fEmLC"
      },
      "source": [
        "import matplotlib.pyplot as plt\n",
        "plt.plot?"
      ],
      "execution_count": 43,
      "outputs": []
    },
    {
      "cell_type": "code",
      "metadata": {
        "id": "pKWnROW7EPOF",
        "outputId": "4f67980a-b562-4a22-ad00-59e70d801de5",
        "colab": {
          "base_uri": "https://localhost:8080/",
          "height": 265
        }
      },
      "source": [
        "# TODO: Use help info to change the line color to red and linewidth to 2\n",
        "plt.plot([0,1,2,3,4], [5,1,5,1,5],'.-');"
      ],
      "execution_count": 52,
      "outputs": [
        {
          "output_type": "display_data",
          "data": {
            "image/png": "[encoded data removed]",
            "text/plain": [
              "<Figure size 432x288 with 1 Axes>"
            ]
          },
          "metadata": {
            "tags": [],
            "needs_background": "light"
          }
        }
      ]
    },
    {
      "cell_type": "markdown",
      "metadata": {
        "id": "RpYWBwdDPMKg"
      },
      "source": [
        "### **Check to see if PyTorch is installed**"
      ]
    },
    {
      "cell_type": "code",
      "metadata": {
        "id": "CaSGByTIPJff",
        "outputId": "703a50d3-d802-45ee-aee8-7e60107f4300",
        "colab": {
          "base_uri": "https://localhost:8080/"
        }
      },
      "source": [
        "#TODO: get a list of all installed packages, by using pip list, without the grep command\n",
        "!pip list | grep torch"
      ],
      "execution_count": 50,
      "outputs": [
        {
          "output_type": "stream",
          "text": [
            "torch                         1.6.0+cu101    \n",
            "torchsummary                  1.5.1          \n",
            "torchtext                     0.3.1          \n",
            "torchvision                   0.7.0+cu101    \n"
          ],
          "name": "stdout"
        }
      ]
    },
    {
      "cell_type": "code",
      "metadata": {
        "id": "fxNWABQVLZE3"
      },
      "source": [
        ""
      ],
      "execution_count": null,
      "outputs": []
    }
  ]
}