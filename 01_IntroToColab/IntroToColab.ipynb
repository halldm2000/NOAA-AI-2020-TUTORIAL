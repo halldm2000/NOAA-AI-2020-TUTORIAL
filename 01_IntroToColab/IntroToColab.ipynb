{
  "nbformat": 4,
  "nbformat_minor": 0,
  "metadata": {
    "colab": {
      "name": "IntroToColab.ipynb",
      "provenance": [],
      "collapsed_sections": [],
      "include_colab_link": true
    },
    "kernelspec": {
      "name": "python3",
      "display_name": "Python 3"
    }
  },
  "cells": [
    {
      "cell_type": "markdown",
      "metadata": {
        "id": "view-in-github",
        "colab_type": "text"
      },
      "source": [
        "<a href=\"https://colab.research.google.com/github/halldm2000/NOAA-AI-2020-TUTORIAL/blob/master/01_IntroToColab/IntroToColab.ipynb\" target=\"_parent\"><img src=\"https://colab.research.google.com/assets/colab-badge.svg\" alt=\"Open In Colab\"/></a>"
      ]
    },
    {
      "cell_type": "markdown",
      "metadata": {
        "id": "XiHoCodlS_OC"
      },
      "source": [
        "### **<font color=\"Crimson\">NOAA 2nd Annual AI Workshop - Tutorial</font>**\n",
        "\n",
        "From **github**, you can launch this page by clicking on the \"Open in Colab\" badge.\n",
        "\n",
        "<br>\n",
        "\n",
        "### **This Tutorial uses Google Colab.**\n",
        "\n",
        "![colab logo](https://github.com/halldm2000/NOAA-AI-2020-TUTORIAL/blob/master/Images/colab.png?raw=true)\n",
        "\n",
        "<br>\n",
        "\n",
        "- Google Colab provides a **Jupyter notebook** on a Google server.\n",
        "- Jupyter is an interactive coding environment in your web browser. \n",
        "- Colab is free and proveds access to a single **NVIDIA GPU**.\n",
        "- NVIDIA GPUs make deep learning far more practical.\n",
        "- Press **`[Shift] + [Enter]`** to run this each and move on to the next one.\n"
      ]
    },
    {
      "cell_type": "markdown",
      "metadata": {
        "id": "7UUk-Eu0SfQj"
      },
      "source": [
        "### **Launch a GPU Kernel.**\n",
        "\n",
        "- Let's use the GPU that Colab is providing\n",
        "- Click on the menu item <b>Runtime $\\rightarrow$ Change runtime type </b>\n",
        "- Choose Hardware accelerator: **GPU**\n",
        "\n",
        "<br>\n",
        "\n",
        "![alt text](https://github.com/halldm2000/NOAA-AI-2020-TUTORIAL/blob/master/Images/p100.jpg?raw=true)\n",
        "\n",
        "<br>\n",
        "\n",
        "### **Check to see which GPU was provided.**\n",
        "\n",
        "- An exclamation point **!** at the start of the line lets you execute a **linux shell command**\n",
        "- `nvidia-smi` is the **NVIDIA System Management Interface** \n",
        "- In the past Colab provided only **K80**'s which are older GPUs\n",
        "- But now you might be assigned a **Tesla P100** or **Tesla T4**, both of which are more powerful.\n"
      ]
    },
    {
      "cell_type": "code",
      "metadata": {
        "id": "c3aOqiFCE0UW"
      },
      "source": [
        "!/opt/bin/nvidia-smi"
      ],
      "execution_count": null,
      "outputs": []
    },
    {
      "cell_type": "code",
      "metadata": {
        "id": "7sihuz4QG93r"
      },
      "source": [
        "#TODO: use nvidia-smi -q to get detailed GPU information\n"
      ],
      "execution_count": null,
      "outputs": []
    },
    {
      "cell_type": "markdown",
      "metadata": {
        "id": "HbKiuB0KBNLy"
      },
      "source": [
        "### **How much memory and disk space is available?**\n",
        "- Check how much ram and disk space are available for use"
      ]
    },
    {
      "cell_type": "code",
      "metadata": {
        "id": "zPZ62UGnA7xP"
      },
      "source": [
        "# check available RAM\n",
        "!free -mh"
      ],
      "execution_count": null,
      "outputs": []
    },
    {
      "cell_type": "code",
      "metadata": {
        "id": "V7tLTasmX6PE"
      },
      "source": [
        "# check available hard disk space\n",
        "!df -h / | awk '{print $4}'"
      ],
      "execution_count": null,
      "outputs": []
    },
    {
      "cell_type": "markdown",
      "metadata": {
        "id": "glm4Xa6jEBjT"
      },
      "source": [
        "- Or, **Hover your pointer** over the `RAM, Disk` bars at the top right portion of the page. \n",
        "- This **is** a quick, simple way to see CPU resources"
      ]
    },
    {
      "cell_type": "markdown",
      "metadata": {
        "id": "lxhzBfUzFpuV"
      },
      "source": [
        "### **View contextual completions as you type**\n",
        "- Slowly type the command `np.zeros()`\n",
        "- Colab automatically shows likely completetions at each step. \n",
        "- You can press [Enter] to accept a given suggestion.\n",
        "- When you type the first parenthesis `(`, it brings up the first few lines of the funtion documentation\n"
      ]
    },
    {
      "cell_type": "code",
      "metadata": {
        "id": "p4c--UyHHoWf"
      },
      "source": [
        "import numpy as np"
      ],
      "execution_count": null,
      "outputs": []
    },
    {
      "cell_type": "code",
      "metadata": {
        "id": "WqKJm_UXDsLT"
      },
      "source": [
        "#TODO: type np.zeros(3) slowly... to see code completion options. \n",
        "np.zeros(3)"
      ],
      "execution_count": null,
      "outputs": []
    },
    {
      "cell_type": "markdown",
      "metadata": {
        "id": "4YASmSCRAaMc"
      },
      "source": [
        "### **Mount your own Google Drive to keep files longer than one session**\n",
        "\n",
        "Colab will kill your session after a maximum of 12 hours, or if you don't interact with your notebook for a while. To keep trained neural networks and other files you can mount your own google drive."
      ]
    },
    {
      "cell_type": "code",
      "metadata": {
        "id": "bi3y9o9wAFm5"
      },
      "source": [
        "from google.colab import drive\n",
        "drive.mount('/content/drive')"
      ],
      "execution_count": null,
      "outputs": []
    },
    {
      "cell_type": "code",
      "metadata": {
        "id": "QsHz34krDHTd"
      },
      "source": [
        "# make a file called test.txt and store it in your google drive\n",
        "with open('/content/drive/My Drive/test.txt', 'w') as f:\n",
        "  f.write('Hello Google Drive!')\n",
        "\n",
        "# print the contents of test.txt\n",
        "!cat /content/drive/'My Drive'/test.txt"
      ],
      "execution_count": null,
      "outputs": []
    },
    {
      "cell_type": "markdown",
      "metadata": {
        "id": "CS9D1oNqFri0"
      },
      "source": [
        "### **Get help by adding a question mark** `?`###\n",
        "\n",
        "`Matplotlib` is the most commonly used plotting package in Python. \n",
        "\n",
        "Let's use help information to learn more about how to use its `plot` function\n"
      ]
    },
    {
      "cell_type": "code",
      "metadata": {
        "id": "I0vGPs2fEmLC"
      },
      "source": [
        "import matplotlib.pyplot as plt\n",
        "plt.plot?"
      ],
      "execution_count": null,
      "outputs": []
    },
    {
      "cell_type": "code",
      "metadata": {
        "id": "pKWnROW7EPOF"
      },
      "source": [
        "# TODO: Use help info to change the line color to red and linewidth to 2\n",
        "plt.plot([0,1,2,3,4], [5,1,5,1,5],'.-');"
      ],
      "execution_count": null,
      "outputs": []
    },
    {
      "cell_type": "markdown",
      "metadata": {
        "id": "RpYWBwdDPMKg"
      },
      "source": [
        "### **Check to see if PyTorch is installed**\n",
        "You can use the `pip` command to see why python packages are installed, and to install new ones if needed.\n"
      ]
    },
    {
      "cell_type": "code",
      "metadata": {
        "id": "CaSGByTIPJff"
      },
      "source": [
        "#TODO: get a list of all installed packages, by using pip list, without the grep command\n",
        "!pip list | grep torch"
      ],
      "execution_count": null,
      "outputs": []
    },
    {
      "cell_type": "markdown",
      "metadata": {
        "id": "g5nQCWxYM3F4"
      },
      "source": [
        "### **Use the commmand palette to perform advance commmands**\n",
        "\n",
        "There are a lot of commands available in the Colab command palette.\n",
        "\n",
        "<font color=\"green\">**TODO**</font>: \n",
        "- Goto <b>Tools $\\rightarrow$ Command palette </b> or type `[ctrl]+[shift]+p`\n",
        "- Then select `Add table of contents cell`\n",
        "\n"
      ]
    }
  ]
}