{
  "nbformat": 4,
  "nbformat_minor": 0,
  "metadata": {
    "colab": {
      "name": "dhall-noaa-tutorial-2020-Page1.ipynb",
      "provenance": [],
      "collapsed_sections": [],
      "authorship_tag": "ABX9TyMVNlmNuwom9rfhoOhPhC0B",
      "include_colab_link": true
    },
    "kernelspec": {
      "name": "python3",
      "display_name": "Python 3"
    },
    "accelerator": "GPU"
  },
  "cells": [
    {
      "cell_type": "markdown",
      "metadata": {
        "id": "view-in-github",
        "colab_type": "text"
      },
      "source": [
        "<a href=\"https://colab.research.google.com/github/halldm2000/NOAA-AI-2020-TUTORIAL/blob/master/dhall_noaa_tutorial_2020_Page1.ipynb\" target=\"_parent\"><img src=\"https://colab.research.google.com/assets/colab-badge.svg\" alt=\"Open In Colab\"/></a>"
      ]
    },
    {
      "cell_type": "markdown",
      "metadata": {
        "id": "Z1IJEJ9WF1Es",
        "colab_type": "text"
      },
      "source": [
        "### Google Colab Basics\n"
      ]
    },
    {
      "cell_type": "markdown",
      "metadata": {
        "id": "XiHoCodlS_OC",
        "colab_type": "text"
      },
      "source": [
        "- We will be using Google Colab for this tutorial.\n",
        "- (From github, you can launch this page by clicking on the \"Open in Colab\" badge.)\n",
        "- Google Colab provides a Jupyter notebook served up on a Google machine.\n",
        "- A Jupyter notebook is a interactive coding environment in your web browser. \n",
        "- It's free and gives us access to an NVIDIA GPU.\n",
        "- NVIDIA GPUs make deep learning *a lot* more practical.\n",
        "- press **`Shift Enter`** to evaluate this cell and move on to the next one."
      ]
    },
    {
      "cell_type": "markdown",
      "metadata": {
        "id": "R4_IF8evB1BR",
        "colab_type": "text"
      },
      "source": [
        "### Launch a GPU kernel (runtime)\n",
        "\n",
        "\n",
        "\n",
        "\n",
        "\n"
      ]
    },
    {
      "cell_type": "markdown",
      "metadata": {
        "id": "7UUk-Eu0SfQj",
        "colab_type": "text"
      },
      "source": [
        "\n",
        "- Let's launch the GPU by clicking on the menu item <b>Runtime $\\rightarrow$ Change runtime type </b>\n",
        "- Then check to see what kind of GPU we have available (if any)\n",
        "\n"
      ]
    },
    {
      "cell_type": "code",
      "metadata": {
        "id": "c3aOqiFCE0UW",
        "colab_type": "code",
        "outputId": "a5e99dda-1386-4296-f490-34fb3a708ce9",
        "colab": {
          "base_uri": "https://localhost:8080/",
          "height": 306
        }
      },
      "source": [
        "!/opt/bin/nvidia-smi"
      ],
      "execution_count": 3,
      "outputs": [
        {
          "output_type": "stream",
          "text": [
            "Tue Jan 28 18:17:55 2020       \n",
            "+-----------------------------------------------------------------------------+\n",
            "| NVIDIA-SMI 418.67       Driver Version: 418.67       CUDA Version: 10.1     |\n",
            "|-------------------------------+----------------------+----------------------+\n",
            "| GPU  Name        Persistence-M| Bus-Id        Disp.A | Volatile Uncorr. ECC |\n",
            "| Fan  Temp  Perf  Pwr:Usage/Cap|         Memory-Usage | GPU-Util  Compute M. |\n",
            "|===============================+======================+======================|\n",
            "|   0  Tesla P100-PCIE...  Off  | 00000000:00:04.0 Off |                    0 |\n",
            "| N/A   34C    P0    26W / 250W |      0MiB / 16280MiB |      0%      Default |\n",
            "+-------------------------------+----------------------+----------------------+\n",
            "                                                                               \n",
            "+-----------------------------------------------------------------------------+\n",
            "| Processes:                                                       GPU Memory |\n",
            "|  GPU       PID   Type   Process name                             Usage      |\n",
            "|=============================================================================|\n",
            "|  No running processes found                                                 |\n",
            "+-----------------------------------------------------------------------------+\n"
          ],
          "name": "stdout"
        }
      ]
    },
    {
      "cell_type": "markdown",
      "metadata": {
        "id": "E-2FeS95NT-1",
        "colab_type": "text"
      },
      "source": [
        "### Jupyter notebook basics"
      ]
    },
    {
      "cell_type": "markdown",
      "metadata": {
        "id": "Q1sacIh9NcGG",
        "colab_type": "text"
      },
      "source": [
        "- Jupyter notebooks are good for prototyping \n",
        "- They can be used interactively for rapid development\n",
        "- They allow you to mix code, plots, text, math, images, and more in one document\n",
        "- You can even build simple user interfaces, if you like"
      ]
    },
    {
      "cell_type": "markdown",
      "metadata": {
        "id": "8mSQlhMxUFCH",
        "colab_type": "text"
      },
      "source": [
        "[NEXT](https://colab.research.google.com/github/halldm2000/NOAA-AI-2020-TUTORIAL/blob/master/dhall_noaa_tutorial_2020_Page2.ipynb)"
      ]
    },
    {
      "cell_type": "code",
      "metadata": {
        "id": "ykN7F5RaYQqd",
        "colab_type": "code",
        "colab": {}
      },
      "source": [
        ""
      ],
      "execution_count": 0,
      "outputs": []
    }
  ]
}