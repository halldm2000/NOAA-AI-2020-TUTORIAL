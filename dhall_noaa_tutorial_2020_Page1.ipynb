{
  "nbformat": 4,
  "nbformat_minor": 0,
  "metadata": {
    "colab": {
      "name": "dhall-noaa-tutorial-2020-Page1.ipynb",
      "provenance": [],
      "collapsed_sections": [
        "R4_IF8evB1BR",
        "x3ASpquK9MvU"
      ],
      "authorship_tag": "ABX9TyN0iaQfbKUPT1NsvJ8u/mVF",
      "include_colab_link": true
    },
    "kernelspec": {
      "name": "python3",
      "display_name": "Python 3"
    },
    "accelerator": "GPU"
  },
  "cells": [
    {
      "cell_type": "markdown",
      "metadata": {
        "id": "view-in-github",
        "colab_type": "text"
      },
      "source": [
        "<a href=\"https://colab.research.google.com/github/halldm2000/NOAA-AI-2020-TUTORIAL/blob/master/dhall_noaa_tutorial_2020_Page1.ipynb\" target=\"_parent\"><img src=\"https://colab.research.google.com/assets/colab-badge.svg\" alt=\"Open In Colab\"/></a>"
      ]
    },
    {
      "cell_type": "markdown",
      "metadata": {
        "id": "Z1IJEJ9WF1Es",
        "colab_type": "text"
      },
      "source": [
        "### Google Colab Basics\n",
        "<img src=\"https://github.com/halldm2000/NOAA-AI-2020-TUTORIAL/blob/master/Images/colab_banner2.png?raw=true\">"
      ]
    },
    {
      "cell_type": "markdown",
      "metadata": {
        "id": "XiHoCodlS_OC",
        "colab_type": "text"
      },
      "source": [
        "- We will be using <b>Google Colab</b> for this tutorial.<br>\n",
        "- Its a Jupyter notebook serverd up on a google machine <br>\n",
        "- It's free and gives us access to an <b>NVIDIA GPU</b>.<br>\n",
        "- GPUs make deep learning a lot more practical.<br>"
      ]
    },
    {
      "cell_type": "markdown",
      "metadata": {
        "id": "R4_IF8evB1BR",
        "colab_type": "text"
      },
      "source": [
        "---\n",
        "### Start up the GPU\n",
        "\n",
        "\n",
        "\n",
        "\n",
        "\n"
      ]
    },
    {
      "cell_type": "markdown",
      "metadata": {
        "id": "7UUk-Eu0SfQj",
        "colab_type": "text"
      },
      "source": [
        "\n",
        "- Let's launch the GPU by clicking on the menu item <b>Runtime $\\rightarrow$ Change runtime type </b>\n",
        "- Check to see what kind of GPU we have available (if any)\n",
        "\n"
      ]
    },
    {
      "cell_type": "code",
      "metadata": {
        "id": "c3aOqiFCE0UW",
        "colab_type": "code",
        "outputId": "b8279fd1-1216-43e4-b8fe-cfa6e797c8f8",
        "colab": {
          "base_uri": "https://localhost:8080/",
          "height": 306
        }
      },
      "source": [
        "!/opt/bin/nvidia-smi"
      ],
      "execution_count": 0,
      "outputs": [
        {
          "output_type": "stream",
          "text": [
            "Mon Jan 27 22:17:00 2020       \n",
            "+-----------------------------------------------------------------------------+\n",
            "| NVIDIA-SMI 418.67       Driver Version: 418.67       CUDA Version: 10.1     |\n",
            "|-------------------------------+----------------------+----------------------+\n",
            "| GPU  Name        Persistence-M| Bus-Id        Disp.A | Volatile Uncorr. ECC |\n",
            "| Fan  Temp  Perf  Pwr:Usage/Cap|         Memory-Usage | GPU-Util  Compute M. |\n",
            "|===============================+======================+======================|\n",
            "|   0  Tesla T4            Off  | 00000000:00:04.0 Off |                    0 |\n",
            "| N/A   42C    P8    10W /  70W |      0MiB / 15079MiB |      0%      Default |\n",
            "+-------------------------------+----------------------+----------------------+\n",
            "                                                                               \n",
            "+-----------------------------------------------------------------------------+\n",
            "| Processes:                                                       GPU Memory |\n",
            "|  GPU       PID   Type   Process name                             Usage      |\n",
            "|=============================================================================|\n",
            "|  No running processes found                                                 |\n",
            "+-----------------------------------------------------------------------------+\n"
          ],
          "name": "stdout"
        }
      ]
    },
    {
      "cell_type": "markdown",
      "metadata": {
        "id": "u9vjDPTGFGbU",
        "colab_type": "text"
      },
      "source": [
        "In my case, it says \n",
        "- I have access to a NVIDIA Tesla T4\n",
        "- It has 15 GB of vRAM.\n",
        "- It is using CUDA version 10.1 "
      ]
    },
    {
      "cell_type": "markdown",
      "metadata": {
        "id": "x3ASpquK9MvU",
        "colab_type": "text"
      },
      "source": [
        "\n",
        "\n",
        "---\n",
        "### Plot a simple curve\n",
        "\n",
        "- Let's start out by doing something simple, like plotting a curve.\n"
      ]
    },
    {
      "cell_type": "code",
      "metadata": {
        "id": "iUKgcZKP8Yq9",
        "colab_type": "code",
        "outputId": "e6190051-423e-4202-f80f-12da5f9bda90",
        "colab": {
          "base_uri": "https://localhost:8080/",
          "height": 282
        }
      },
      "source": [
        "import numpy as np\n",
        "import matplotlib.pyplot as plt\n",
        "x = np.linspace(-10,10,100)\n",
        "y = x**2\n",
        "plt.plot(x,y)"
      ],
      "execution_count": 0,
      "outputs": [
        {
          "output_type": "execute_result",
          "data": {
            "text/plain": [
              "[<matplotlib.lines.Line2D at 0x7f21f1906d68>]"
            ]
          },
          "metadata": {
            "tags": []
          },
          "execution_count": 2
        },
        {
          "output_type": "display_data",
          "data": {
            "image/png": "[encoded data removed]",
            "text/plain": [
              "<Figure size 432x288 with 1 Axes>"
            ]
          },
          "metadata": {
            "tags": []
          }
        }
      ]
    },
    {
      "cell_type": "markdown",
      "metadata": {
        "id": "DSmbmnUl-jB7",
        "colab_type": "text"
      },
      "source": [
        "`numpy`  is a numical python library for handling arrays and math.<br>\n",
        "`matplotlib` is a python plotting library that reproduces many of the plotting capabilities of Matlab"
      ]
    },
    {
      "cell_type": "code",
      "metadata": {
        "id": "hyHGX4FrB2Tt",
        "colab_type": "code",
        "colab": {}
      },
      "source": [
        ""
      ],
      "execution_count": 0,
      "outputs": []
    }
  ]
}