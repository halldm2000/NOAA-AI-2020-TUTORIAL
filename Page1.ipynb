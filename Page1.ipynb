{
  "nbformat": 4,
  "nbformat_minor": 0,
  "metadata": {
    "colab": {
      "name": "Page1.ipynb",
      "provenance": [],
      "collapsed_sections": [],
      "authorship_tag": "ABX9TyNZ1Hup7vOF1khC3lqci3wv",
      "include_colab_link": true
    },
    "kernelspec": {
      "name": "python3",
      "display_name": "Python 3"
    },
    "accelerator": "GPU"
  },
  "cells": [
    {
      "cell_type": "markdown",
      "metadata": {
        "id": "view-in-github",
        "colab_type": "text"
      },
      "source": [
        "<a href=\"https://colab.research.google.com/github/halldm2000/NOAA-AI-2020-TUTORIAL/blob/master/Page1.ipynb\" target=\"_parent\"><img src=\"https://colab.research.google.com/assets/colab-badge.svg\" alt=\"Open In Colab\"/></a>"
      ]
    },
    {
      "cell_type": "markdown",
      "metadata": {
        "id": "Z1IJEJ9WF1Es",
        "colab_type": "text"
      },
      "source": [
        "### Google Colab Basics\n"
      ]
    },
    {
      "cell_type": "markdown",
      "metadata": {
        "id": "XiHoCodlS_OC",
        "colab_type": "text"
      },
      "source": [
        "- We will be using Google Colab for this tutorial.\n",
        "- (From github, you can launch this page by clicking on the \"Open in Colab\" badge.)\n",
        "- Google Colab provides a Jupyter notebook served up on a Google machine.\n",
        "- A Jupyter notebook is a interactive coding environment in your web browser. \n",
        "- It's free and gives us access to an NVIDIA GPU.\n",
        "- NVIDIA GPUs make deep learning *a lot* more practical.\n",
        "- press **`Shift Enter`** to evaluate this cell and move on to the next one."
      ]
    },
    {
      "cell_type": "markdown",
      "metadata": {
        "id": "R4_IF8evB1BR",
        "colab_type": "text"
      },
      "source": [
        "### Launch a GPU kernel (runtime)\n",
        "\n",
        "\n",
        "\n",
        "\n",
        "\n"
      ]
    },
    {
      "cell_type": "markdown",
      "metadata": {
        "id": "7UUk-Eu0SfQj",
        "colab_type": "text"
      },
      "source": [
        "\n",
        "- Let's launch the GPU by clicking on the menu item <b>Runtime $\\rightarrow$ Change runtime type </b>\n",
        "- Then check to see what kind of GPU we have available (if any)\n",
        "\n"
      ]
    },
    {
      "cell_type": "code",
      "metadata": {
        "id": "c3aOqiFCE0UW",
        "colab_type": "code",
        "outputId": "a5e99dda-1386-4296-f490-34fb3a708ce9",
        "colab": {
          "base_uri": "https://localhost:8080/",
          "height": 306
        }
      },
      "source": [
        "!/opt/bin/nvidia-smi"
      ],
      "execution_count": 3,
      "outputs": [
        {
          "output_type": "stream",
          "text": [
            "Tue Jan 28 18:17:55 2020       \n",
            "+-----------------------------------------------------------------------------+\n",
            "| NVIDIA-SMI 418.67       Driver Version: 418.67       CUDA Version: 10.1     |\n",
            "|-------------------------------+----------------------+----------------------+\n",
            "| GPU  Name        Persistence-M| Bus-Id        Disp.A | Volatile Uncorr. ECC |\n",
            "| Fan  Temp  Perf  Pwr:Usage/Cap|         Memory-Usage | GPU-Util  Compute M. |\n",
            "|===============================+======================+======================|\n",
            "|   0  Tesla P100-PCIE...  Off  | 00000000:00:04.0 Off |                    0 |\n",
            "| N/A   34C    P0    26W / 250W |      0MiB / 16280MiB |      0%      Default |\n",
            "+-------------------------------+----------------------+----------------------+\n",
            "                                                                               \n",
            "+-----------------------------------------------------------------------------+\n",
            "| Processes:                                                       GPU Memory |\n",
            "|  GPU       PID   Type   Process name                             Usage      |\n",
            "|=============================================================================|\n",
            "|  No running processes found                                                 |\n",
            "+-----------------------------------------------------------------------------+\n"
          ],
          "name": "stdout"
        }
      ]
    },
    {
      "cell_type": "markdown",
      "metadata": {
        "id": "HbKiuB0KBNLy",
        "colab_type": "text"
      },
      "source": [
        "### Check how much CPU memory is available"
      ]
    },
    {
      "cell_type": "code",
      "metadata": {
        "id": "zPZ62UGnA7xP",
        "colab_type": "code",
        "colab": {
          "base_uri": "https://localhost:8080/",
          "height": 68
        },
        "outputId": "9d88ee68-995a-481d-bdb9-b73c740a2c02"
      },
      "source": [
        "!free -mh"
      ],
      "execution_count": 5,
      "outputs": [
        {
          "output_type": "stream",
          "text": [
            "              total        used        free      shared  buff/cache   available\n",
            "Mem:            12G        561M         10G        900K        2.0G         11G\n",
            "Swap:            0B          0B          0B\n"
          ],
          "name": "stdout"
        }
      ]
    },
    {
      "cell_type": "markdown",
      "metadata": {
        "id": "glm4Xa6jEBjT",
        "colab_type": "text"
      },
      "source": [
        "-Hover your pointer oveer the RAM, Disk bars at the top right portion of the page. "
      ]
    },
    {
      "cell_type": "markdown",
      "metadata": {
        "id": "E-2FeS95NT-1",
        "colab_type": "text"
      },
      "source": [
        "### Jupyter notebook basics"
      ]
    },
    {
      "cell_type": "markdown",
      "metadata": {
        "id": "Q1sacIh9NcGG",
        "colab_type": "text"
      },
      "source": [
        "- Jupyter notebooks are good for prototyping \n",
        "- They can be used interactively for rapid development\n",
        "- They allow you to mix code, plots, text, math, images, and more in one document\n",
        "- You can even build simple user interfaces, if you like"
      ]
    },
    {
      "cell_type": "markdown",
      "metadata": {
        "id": "ieIWiuK8DZUS",
        "colab_type": "text"
      },
      "source": [
        "- tab completion\n",
        "- code folding\n",
        "\n"
      ]
    },
    {
      "cell_type": "code",
      "metadata": {
        "id": "MK-fIsGmDc4u",
        "colab_type": "code",
        "colab": {}
      },
      "source": [
        "import matplotlib.pyplot as plt\n",
        "import numpy as np"
      ],
      "execution_count": 0,
      "outputs": []
    },
    {
      "cell_type": "markdown",
      "metadata": {
        "id": "lxhzBfUzFpuV",
        "colab_type": "text"
      },
      "source": [
        "Contextual help"
      ]
    },
    {
      "cell_type": "code",
      "metadata": {
        "id": "WqKJm_UXDsLT",
        "colab_type": "code",
        "colab": {}
      },
      "source": [
        "np.zeros()"
      ],
      "execution_count": 0,
      "outputs": []
    },
    {
      "cell_type": "markdown",
      "metadata": {
        "id": "CS9D1oNqFri0",
        "colab_type": "text"
      },
      "source": [
        "Getting help with a function"
      ]
    },
    {
      "cell_type": "code",
      "metadata": {
        "id": "I0vGPs2fEmLC",
        "colab_type": "code",
        "colab": {}
      },
      "source": [
        "plt.plot?"
      ],
      "execution_count": 0,
      "outputs": []
    },
    {
      "cell_type": "code",
      "metadata": {
        "id": "dJ5r-BMRE9VR",
        "colab_type": "code",
        "colab": {
          "base_uri": "https://localhost:8080/",
          "height": 1000
        },
        "outputId": "eb7dcac5-d7a8-494f-8701-71d7fc444483"
      },
      "source": [
        "dir(np.random)"
      ],
      "execution_count": 23,
      "outputs": [
        {
          "output_type": "execute_result",
          "data": {
            "text/plain": [
              "['Generator',\n",
              " 'MT19937',\n",
              " 'PCG64',\n",
              " 'Philox',\n",
              " 'RandomState',\n",
              " 'SFC64',\n",
              " 'SeedSequence',\n",
              " '__RandomState_ctor',\n",
              " '__all__',\n",
              " '__builtins__',\n",
              " '__cached__',\n",
              " '__doc__',\n",
              " '__file__',\n",
              " '__loader__',\n",
              " '__name__',\n",
              " '__package__',\n",
              " '__path__',\n",
              " '__spec__',\n",
              " '_pickle',\n",
              " 'absolute_import',\n",
              " 'beta',\n",
              " 'binomial',\n",
              " 'bit_generator',\n",
              " 'bounded_integers',\n",
              " 'bytes',\n",
              " 'chisquare',\n",
              " 'choice',\n",
              " 'common',\n",
              " 'default_rng',\n",
              " 'dirichlet',\n",
              " 'division',\n",
              " 'exponential',\n",
              " 'f',\n",
              " 'gamma',\n",
              " 'generator',\n",
              " 'geometric',\n",
              " 'get_state',\n",
              " 'gumbel',\n",
              " 'hypergeometric',\n",
              " 'laplace',\n",
              " 'logistic',\n",
              " 'lognormal',\n",
              " 'logseries',\n",
              " 'mt19937',\n",
              " 'mtrand',\n",
              " 'multinomial',\n",
              " 'multivariate_normal',\n",
              " 'negative_binomial',\n",
              " 'noncentral_chisquare',\n",
              " 'noncentral_f',\n",
              " 'normal',\n",
              " 'pareto',\n",
              " 'pcg64',\n",
              " 'permutation',\n",
              " 'philox',\n",
              " 'poisson',\n",
              " 'power',\n",
              " 'print_function',\n",
              " 'rand',\n",
              " 'randint',\n",
              " 'randn',\n",
              " 'random',\n",
              " 'random_integers',\n",
              " 'random_sample',\n",
              " 'ranf',\n",
              " 'rayleigh',\n",
              " 'sample',\n",
              " 'seed',\n",
              " 'set_state',\n",
              " 'sfc64',\n",
              " 'shuffle',\n",
              " 'standard_cauchy',\n",
              " 'standard_exponential',\n",
              " 'standard_gamma',\n",
              " 'standard_normal',\n",
              " 'standard_t',\n",
              " 'test',\n",
              " 'triangular',\n",
              " 'uniform',\n",
              " 'vonmises',\n",
              " 'wald',\n",
              " 'weibull',\n",
              " 'zipf']"
            ]
          },
          "metadata": {
            "tags": []
          },
          "execution_count": 23
        }
      ]
    },
    {
      "cell_type": "markdown",
      "metadata": {
        "id": "8mSQlhMxUFCH",
        "colab_type": "text"
      },
      "source": [
        "[NEXT](https://colab.research.google.com/github/halldm2000/NOAA-AI-2020-TUTORIAL/blob/master/Page2.ipynb)"
      ]
    },
    {
      "cell_type": "code",
      "metadata": {
        "id": "ykN7F5RaYQqd",
        "colab_type": "code",
        "colab": {}
      },
      "source": [
        ""
      ],
      "execution_count": 0,
      "outputs": []
    }
  ]
}