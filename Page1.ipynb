{
  "nbformat": 4,
  "nbformat_minor": 0,
  "metadata": {
    "colab": {
      "name": "Page1.ipynb",
      "provenance": [],
      "collapsed_sections": [
        "Z1IJEJ9WF1Es",
        "R4_IF8evB1BR",
        "XhPDmkf6IE4t",
        "HbKiuB0KBNLy"
      ],
      "authorship_tag": "ABX9TyOBdoOy5tdAXMYe7BUIEbXj",
      "include_colab_link": true
    },
    "kernelspec": {
      "name": "python3",
      "display_name": "Python 3"
    },
    "accelerator": "GPU"
  },
  "cells": [
    {
      "cell_type": "markdown",
      "metadata": {
        "id": "view-in-github",
        "colab_type": "text"
      },
      "source": [
        "<a href=\"https://colab.research.google.com/github/halldm2000/NOAA-AI-2020-TUTORIAL/blob/master/Page1.ipynb\" target=\"_parent\"><img src=\"https://colab.research.google.com/assets/colab-badge.svg\" alt=\"Open In Colab\"/></a>"
      ]
    },
    {
      "cell_type": "markdown",
      "metadata": {
        "id": "JtqEKke0cYWH",
        "colab_type": "text"
      },
      "source": [
        "### **<font color=\"Crimson\">NOAA 2nd Annual AI Workshop - Tutorial</font>**\n",
        "\n",
        "From **github**, you can launch this page by clicking on the \"Open in Colab\" badge."
      ]
    },
    {
      "cell_type": "markdown",
      "metadata": {
        "id": "Z1IJEJ9WF1Es",
        "colab_type": "text"
      },
      "source": [
        "### **This Tutorial uses Google Colab.**\n"
      ]
    },
    {
      "cell_type": "markdown",
      "metadata": {
        "id": "XiHoCodlS_OC",
        "colab_type": "text"
      },
      "source": [
        "![colab logo](https://github.com/halldm2000/NOAA-AI-2020-TUTORIAL/blob/master/Images/colab.png?raw=true)\n",
        "\n",
        "- Google Colab provides a **Jupyter notebook** on a Google server.\n",
        "- Jupyter is an interactive coding environment in your web browser. \n",
        "- Colab is free and gives us access to an **NVIDIA GPU**.\n",
        "- NVIDIA GPUs make deep learning far more practical.\n",
        "- Press **`[Shift] + [Enter]`** to run each cell and move on to the next one."
      ]
    },
    {
      "cell_type": "markdown",
      "metadata": {
        "id": "R4_IF8evB1BR",
        "colab_type": "text"
      },
      "source": [
        "### **Launch a GPU Kernel.**\n",
        "\n",
        "\n",
        "\n",
        "\n",
        "\n"
      ]
    },
    {
      "cell_type": "markdown",
      "metadata": {
        "id": "7UUk-Eu0SfQj",
        "colab_type": "text"
      },
      "source": [
        "\n",
        "- Let's use the GPU that Colab is providing\n",
        "- Click on the menu item <b>Runtime $\\rightarrow$ Change runtime type </b>\n",
        "- Select Runtime type: **Python 3** and Hardware accelerator: **GPU**\n",
        "![alt text](https://github.com/halldm2000/NOAA-AI-2020-TUTORIAL/blob/master/Images/p100.jpg?raw=true)"
      ]
    },
    {
      "cell_type": "markdown",
      "metadata": {
        "id": "XhPDmkf6IE4t",
        "colab_type": "text"
      },
      "source": [
        "### **Check to see which GPU was provided.**\n"
      ]
    },
    {
      "cell_type": "code",
      "metadata": {
        "id": "c3aOqiFCE0UW",
        "colab_type": "code",
        "outputId": "77ca5827-f7ff-4657-8aa4-c2b198c84ed1",
        "colab": {
          "base_uri": "https://localhost:8080/",
          "height": 306
        }
      },
      "source": [
        "!/opt/bin/nvidia-smi"
      ],
      "execution_count": 2,
      "outputs": [
        {
          "output_type": "stream",
          "text": [
            "Wed Jan 29 21:15:24 2020       \n",
            "+-----------------------------------------------------------------------------+\n",
            "| NVIDIA-SMI 418.67       Driver Version: 418.67       CUDA Version: 10.1     |\n",
            "|-------------------------------+----------------------+----------------------+\n",
            "| GPU  Name        Persistence-M| Bus-Id        Disp.A | Volatile Uncorr. ECC |\n",
            "| Fan  Temp  Perf  Pwr:Usage/Cap|         Memory-Usage | GPU-Util  Compute M. |\n",
            "|===============================+======================+======================|\n",
            "|   0  Tesla T4            Off  | 00000000:00:04.0 Off |                    0 |\n",
            "| N/A   37C    P8     9W /  70W |      0MiB / 15079MiB |      0%      Default |\n",
            "+-------------------------------+----------------------+----------------------+\n",
            "                                                                               \n",
            "+-----------------------------------------------------------------------------+\n",
            "| Processes:                                                       GPU Memory |\n",
            "|  GPU       PID   Type   Process name                             Usage      |\n",
            "|=============================================================================|\n",
            "|  No running processes found                                                 |\n",
            "+-----------------------------------------------------------------------------+\n"
          ],
          "name": "stdout"
        }
      ]
    },
    {
      "cell_type": "markdown",
      "metadata": {
        "id": "rst2_Rncc8mv",
        "colab_type": "text"
      },
      "source": [
        "- An exclamation point **!** at the start of the line lets you execute a **linux shell command**\n",
        "- `nvidia-smi` is the **NVIDIA System Management Interface** \n",
        "- Colab used to provide only **K80**'s \n",
        "- But now you might be assigned a **Tesla P100** or **Tesla T4**, both of which are far more powerful."
      ]
    },
    {
      "cell_type": "markdown",
      "metadata": {
        "id": "HbKiuB0KBNLy",
        "colab_type": "text"
      },
      "source": [
        "### **How much memory and disk space is available?**"
      ]
    },
    {
      "cell_type": "code",
      "metadata": {
        "id": "zPZ62UGnA7xP",
        "colab_type": "code",
        "outputId": "bbfecd70-92db-4926-b8ea-532be7ad09d9",
        "colab": {
          "base_uri": "https://localhost:8080/",
          "height": 68
        }
      },
      "source": [
        "!free -mh"
      ],
      "execution_count": 4,
      "outputs": [
        {
          "output_type": "stream",
          "text": [
            "              total        used        free      shared  buff/cache   available\n",
            "Mem:            12G        550M         10G        900K        2.0G         11G\n",
            "Swap:            0B          0B          0B\n"
          ],
          "name": "stdout"
        }
      ]
    },
    {
      "cell_type": "markdown",
      "metadata": {
        "id": "glm4Xa6jEBjT",
        "colab_type": "text"
      },
      "source": [
        "- Hover your pointer over the RAM, Disk bars at the top right portion of the page. \n",
        "- This is a quick, simple way to see CPU resources"
      ]
    },
    {
      "cell_type": "markdown",
      "metadata": {
        "id": "E-2FeS95NT-1",
        "colab_type": "text"
      },
      "source": [
        "### **TODO: Jupyter notebook basics**"
      ]
    },
    {
      "cell_type": "markdown",
      "metadata": {
        "id": "Q1sacIh9NcGG",
        "colab_type": "text"
      },
      "source": [
        "- Jupyter notebooks are good for prototyping \n",
        "- They can be used interactively for rapid development\n",
        "- They allow you to mix code, plots, text, math, images, and more in one document\n",
        "- You can even build simple user interfaces, if you like"
      ]
    },
    {
      "cell_type": "markdown",
      "metadata": {
        "id": "ieIWiuK8DZUS",
        "colab_type": "text"
      },
      "source": [
        "- tab completion\n",
        "- code folding\n",
        "\n"
      ]
    },
    {
      "cell_type": "code",
      "metadata": {
        "id": "MK-fIsGmDc4u",
        "colab_type": "code",
        "colab": {}
      },
      "source": [
        "import matplotlib.pyplot as plt\n",
        "import numpy as np"
      ],
      "execution_count": 0,
      "outputs": []
    },
    {
      "cell_type": "markdown",
      "metadata": {
        "id": "lxhzBfUzFpuV",
        "colab_type": "text"
      },
      "source": [
        "Contextual help"
      ]
    },
    {
      "cell_type": "code",
      "metadata": {
        "id": "WqKJm_UXDsLT",
        "colab_type": "code",
        "colab": {}
      },
      "source": [
        "np.zeros()"
      ],
      "execution_count": 0,
      "outputs": []
    },
    {
      "cell_type": "markdown",
      "metadata": {
        "id": "CS9D1oNqFri0",
        "colab_type": "text"
      },
      "source": [
        "Getting help with a function"
      ]
    },
    {
      "cell_type": "code",
      "metadata": {
        "id": "I0vGPs2fEmLC",
        "colab_type": "code",
        "colab": {}
      },
      "source": [
        "plt.plot?"
      ],
      "execution_count": 0,
      "outputs": []
    },
    {
      "cell_type": "code",
      "metadata": {
        "id": "dJ5r-BMRE9VR",
        "colab_type": "code",
        "colab": {}
      },
      "source": [
        "dir(np.random)"
      ],
      "execution_count": 0,
      "outputs": []
    },
    {
      "cell_type": "markdown",
      "metadata": {
        "id": "8mSQlhMxUFCH",
        "colab_type": "text"
      },
      "source": [
        "[NEXT](https://colab.research.google.com/github/halldm2000/NOAA-AI-2020-TUTORIAL/blob/master/Page2.ipynb)"
      ]
    },
    {
      "cell_type": "code",
      "metadata": {
        "id": "ykN7F5RaYQqd",
        "colab_type": "code",
        "colab": {}
      },
      "source": [
        ""
      ],
      "execution_count": 0,
      "outputs": []
    }
  ]
}