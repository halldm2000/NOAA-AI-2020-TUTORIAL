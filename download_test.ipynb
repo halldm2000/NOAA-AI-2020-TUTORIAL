{
  "nbformat": 4,
  "nbformat_minor": 0,
  "metadata": {
    "colab": {
      "name": "download test",
      "provenance": [],
      "collapsed_sections": [],
      "toc_visible": true,
      "authorship_tag": "ABX9TyMuPlGo2YH9nQlm48e14Qc9",
      "include_colab_link": true
    },
    "kernelspec": {
      "name": "python3",
      "display_name": "Python 3"
    }
  },
  "cells": [
    {
      "cell_type": "markdown",
      "metadata": {
        "id": "view-in-github",
        "colab_type": "text"
      },
      "source": [
        "<a href=\"https://colab.research.google.com/github/halldm2000/NOAA-AI-2020-TUTORIAL/blob/master/download_test.ipynb\" target=\"_parent\"><img src=\"https://colab.research.google.com/assets/colab-badge.svg\" alt=\"Open In Colab\"/></a>"
      ]
    },
    {
      "cell_type": "markdown",
      "metadata": {
        "id": "TJmIVn9jx8O7",
        "colab_type": "text"
      },
      "source": [
        "### **Download test**\n",
        "Run this notebook to test if we can download the tutorial data.\n",
        "\n",
        "**Download the data from a shared google drive link using `gdown`**\n"
      ]
    },
    {
      "cell_type": "code",
      "metadata": {
        "id": "IcPyFA2TyA2I",
        "colab_type": "code",
        "colab": {}
      },
      "source": [
        "!gdown https://drive.google.com/uc?id=1HADX8w-32t1_Phzwn9rfvX6PYl92za40"
      ],
      "execution_count": 0,
      "outputs": []
    },
    {
      "cell_type": "markdown",
      "metadata": {
        "id": "L9nIuwsd4Yqs",
        "colab_type": "text"
      },
      "source": [
        "**Extract and unzip the tar file**"
      ]
    },
    {
      "cell_type": "code",
      "metadata": {
        "id": "jExj3uW10o45",
        "colab_type": "code",
        "colab": {}
      },
      "source": [
        "!tar -xzf cyclones.tar.gz"
      ],
      "execution_count": 0,
      "outputs": []
    },
    {
      "cell_type": "markdown",
      "metadata": {
        "id": "vY6YdMFe4gIQ",
        "colab_type": "text"
      },
      "source": [
        "**Ensure NetCDF4 is installed, so we can load the data**"
      ]
    },
    {
      "cell_type": "code",
      "metadata": {
        "id": "jCaAdaJD3TwY",
        "colab_type": "code",
        "colab": {}
      },
      "source": [
        "!pip install netcdf4"
      ],
      "execution_count": 0,
      "outputs": []
    },
    {
      "cell_type": "markdown",
      "metadata": {
        "id": "NDZ2_21Q6imW",
        "colab_type": "text"
      },
      "source": [
        "**Load and plot some data**"
      ]
    },
    {
      "cell_type": "code",
      "metadata": {
        "id": "V64Nbo_a1iWA",
        "colab_type": "code",
        "colab": {}
      },
      "source": [
        "from glob import glob\n",
        "import xarray as xr\n",
        "import matplotlib.pyplot as plt\n",
        "\n",
        "files = glob(\"crop_64/CAT2/*.nc\");\n",
        "\n",
        "for file in files[:5]:\n",
        "  ds = xr.open_dataset(file);\n",
        "  plt.figure(figsize=(8,3))\n",
        "  plt.subplot(1,3,1); plt.imshow(ds[\"pwat\"].data, cmap=\"plasma\"); plt.axis('off');\n",
        "  plt.subplot(1,3,2); plt.imshow(ds[\"mslp\"].data, cmap=\"bone\"); plt.axis('off');\n",
        "  plt.subplot(1,3,3); plt.imshow(ds[\"rh\"].data,   cmap=\"viridis\"); plt.axis('off');\n",
        "  plt.show()\n"
      ],
      "execution_count": 0,
      "outputs": []
    }
  ]
}