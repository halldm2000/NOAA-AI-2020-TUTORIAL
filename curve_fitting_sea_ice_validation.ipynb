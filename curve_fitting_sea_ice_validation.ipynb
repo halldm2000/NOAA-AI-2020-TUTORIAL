{
  "nbformat": 4,
  "nbformat_minor": 0,
  "metadata": {
    "colab": {
      "name": "curve_fitting_sea_ice_validation_v0.2.ipynb",
      "provenance": [],
      "private_outputs": true,
      "collapsed_sections": [],
      "authorship_tag": "ABX9TyNpSd0rPssSb2BlrVbD2IF3",
      "include_colab_link": true
    },
    "kernelspec": {
      "name": "python3",
      "display_name": "Python 3"
    }
  },
  "cells": [
    {
      "cell_type": "markdown",
      "metadata": {
        "id": "view-in-github",
        "colab_type": "text"
      },
      "source": [
        "<a href=\"https://colab.research.google.com/github/halldm2000/NOAA-AI-2020-TUTORIAL/blob/master/curve_fitting_sea_ice_validation.ipynb\" target=\"_parent\"><img src=\"https://colab.research.google.com/assets/colab-badge.svg\" alt=\"Open In Colab\"/></a>"
      ]
    },
    {
      "cell_type": "markdown",
      "metadata": {
        "id": "ruOrqn_YloKW"
      },
      "source": [
        "### Curve Fitting with PyTorch\n"
      ]
    },
    {
      "cell_type": "markdown",
      "metadata": {
        "id": "c_RagBKQr8WF"
      },
      "source": [
        "**Download Data**"
      ]
    },
    {
      "cell_type": "code",
      "metadata": {
        "id": "S1m-Rx7Jezwv"
      },
      "source": [
        "source = \"ftp://sidads.colorado.edu/DATASETS/NOAA/G02135/north/daily/data/N_seaice_extent_daily_v3.0.csv\"\n",
        "dest    = \"/content/data/\"\n",
        "!wget  -c -e robots=off -P {dest} {source}"
      ],
      "execution_count": null,
      "outputs": []
    },
    {
      "cell_type": "markdown",
      "metadata": {
        "id": "eBeODfo-rqWt"
      },
      "source": [
        "**Data Loading Routine**\n"
      ]
    },
    {
      "cell_type": "code",
      "metadata": {
        "id": "pZJoJA2YuwW1"
      },
      "source": [
        "import numpy as np\n",
        "import matplotlib.pyplot as plt\n",
        "from sklearn.preprocessing import StandardScaler\n",
        "from datetime import datetime, timedelta\n",
        "import torch, numpy as np\n",
        "\n",
        "# make directory to store images\n",
        "!mkdir -p images\n",
        "\n",
        "def load_data():\n",
        "  global xscaler, yscaler, X,Y, year\n",
        "\n",
        "  # read sea-ice extent data from CSV file\n",
        "  csv    = \"/content/data/N_seaice_extent_daily_v3.0.csv\"\n",
        "  data   = np.loadtxt(csv, skiprows=2, delimiter=',', usecols=(0,1,2,3,4))\n",
        "  extent = data[:,3]\n",
        "  year   = data[:,0]\n",
        "  nrows  = data.shape[0]\n",
        "\n",
        "  # get day of the year\n",
        "  yday   = np.zeros_like(year) \n",
        "  for i in range(nrows):\n",
        "    yr, month, day = data[i,0:3].astype(int)\n",
        "    yday[i] = datetime(yr,month,day).timetuple().tm_yday\n",
        "    \n",
        "  # put variables in column format\n",
        "  X    = np.reshape(yday,  (-1,1))\n",
        "  Y    = np.reshape(extent,(-1,1))\n",
        "  year = np.reshape(year,  (-1,1))\n",
        "\n",
        "  # fir data in range [-1,1]\n",
        "  xscaler = StandardScaler()\n",
        "  yscaler = StandardScaler()\n",
        "  x = torch.from_numpy(xscaler.fit_transform(X))\n",
        "  y = torch.from_numpy(yscaler.fit_transform(Y))\n",
        "\n",
        "  return x,y\n",
        "  \n",
        "def shuffle_blocks(blocksize = 365):\n",
        "  global x,y,X,Y, year\n",
        "  \n",
        "  nrows = len(x)//blocksize\n",
        "  inds  = torch.arange(0,nrows*blocksize)\n",
        "  inds  = inds.view(nrows, blocksize)\n",
        "  inds  = inds[torch.randperm(nrows),:].flatten()\n",
        "  x,y,X,Y, year = x[inds], y[inds], X[inds], Y[inds], year[inds]\n",
        "  "
      ],
      "execution_count": null,
      "outputs": []
    },
    {
      "cell_type": "markdown",
      "metadata": {
        "id": "ECiLNQPJrwT5"
      },
      "source": [
        "**Plotting Routine**"
      ]
    },
    {
      "cell_type": "code",
      "metadata": {
        "id": "u-wJRUsGmkPO"
      },
      "source": [
        "def plot(interval = 1):\n",
        "\n",
        "  global X,Y, X_train, Y_train, X_val, Y_val\n",
        "\n",
        "  # exit if it's not time to plot\n",
        "  if epoch%interval != 0: return\n",
        "\n",
        "  if(epoch==0):\n",
        "    X_train = xscaler.inverse_transform(x_train)\n",
        "    Y_train = yscaler.inverse_transform(y_train)\n",
        "    X_val   = xscaler.inverse_transform(x_val)\n",
        "    Y_val   = yscaler.inverse_transform(y_val)\n",
        "\n",
        "  # plot observations\n",
        "  plt.figure(figsize=(10,10),dpi=72*1.25)\n",
        "\n",
        "  plt.subplot(2,1,1)\n",
        "  plt.scatter(X_train,Y_train,alpha=0.2, s=5, label=\"training data\")\n",
        "  plt.scatter(X_val,Y_val,alpha=0.2, s=5, label=\"validation data\")\n",
        "  plt.legend()\n",
        "\n",
        "  plt.ylim(Y.min(), Y.max())\n",
        "\n",
        "  # plot curve-fit\n",
        "  Y_pred = yscaler.inverse_transform(prediction)\n",
        "  plt.scatter(X_train,Y_pred,c='black',s=5);\n",
        "\n",
        "  # print equation\n",
        "  terms = [f\"${w[i]:+.2f} X^{i} $\" for i in range(len(w))]\n",
        "  eqn   = \"y =\"+ ''.join(terms)+ f\"     $X = (x - {x0[0]:.3f})$\"\n",
        "  plt.text(0.5, 1.02, eqn, transform=plt.gca().transAxes, fontsize=10, horizontalalignment='center')\n",
        "\n",
        "  # set title, axis labels\n",
        "  plt.xlabel(\"day of the year\", fontsize=12)\n",
        "  plt.ylabel(\"million sq km \", fontsize=12);\n",
        "  plt.title(f\"Annual Artic Sea-ice Extent   Epoch={epoch}   Training loss={loss.item():.3f} \\n\",fontsize=14)\n",
        "\n",
        "  # plot train and validation loss\n",
        "  plt.subplot(2,1,2)\n",
        "  epochs = range( len(train_loss) )\n",
        "  plt.semilogy(epochs, train_loss, label=\"training loss\")\n",
        "  plt.semilogy(epochs, val_loss,'g', label=\"validation loss\")\n",
        "  plt.title('loss vs time')\n",
        "  plt.xlabel('epoch')\n",
        "  plt.ylabel('average error')\n",
        "  plt.ylim(bottom=1e-2)\n",
        "  plt.legend()\n",
        "\n",
        "  # save figure to file\n",
        "  plt.savefig(f'./images/img_{epoch//interval:04d}',bbox_inches='tight');\n",
        "  plt.show()"
      ],
      "execution_count": null,
      "outputs": []
    },
    {
      "cell_type": "markdown",
      "metadata": {
        "id": "JFBVV-fepKBi"
      },
      "source": [
        "**Train the Model**\n",
        "\n",
        "We have fit a 3rd order Taylor series to the data. Can we do better?\n",
        "\n",
        "**<font color=\"red\">TODO:</font>**\n",
        "* Try changing the order of the Taylor series to N=1, N=5, etc\n",
        "* Add more epochs if neccessary for loss to converge\n",
        "* Adjust the learning rate (lr=...) \n",
        "* Try replacing MSELoss with L1Loss\n",
        "* Increase plotting interval to reduce training time\n",
        "* Try replacing the Taylor series with a Fourier series\n",
        "```\n",
        "# MODEL\n",
        "N     = 3\n",
        "x0    = torch.randn(N, requires_grad=True)\n",
        "freq  = torch.randn(N, requires_grad=True)\n",
        "w     = torch.zeros(N, requires_grad=True)\n",
        "def model(x): return sum( w[i]*torch.sin(freq[i]*np.pi*(x-x0[i])) for i in range(N) )\n",
        "```\n",
        "\n",
        "\n"
      ]
    },
    {
      "cell_type": "code",
      "metadata": {
        "id": "Y6WpmtXtY9iu"
      },
      "source": [
        "x,y = load_data()\n",
        "plt.figure(figsize=(10,6), dpi=72*2)\n",
        "plt.subplot(3,1,1)\n",
        "plt.imshow(year.T,extent=[year.min(),year.max(),0,5])\n",
        "plt.plot((2000,2000),(0,5), '-',color='black',linewidth=4)\n",
        "plt.plot((2010,2010),(0,5), '-',color='black',linewidth=4)\n",
        "plt.axis('off')\n",
        "plt.title('unshuffled')\n",
        "\n",
        "plt.subplot(3,1,2)\n",
        "shuffle_blocks(blocksize=400)\n",
        "plt.imshow(year.T,extent=[year.min(),year.max(),0,5])\n",
        "plt.plot((2000,2000),(0,5), '-',color='black',linewidth=4)\n",
        "plt.plot((2010,2010),(0,5), '-',color='black',linewidth=4)\n",
        "plt.axis('off')\n",
        "plt.title('block shuffle')\n",
        "\n",
        "plt.subplot(3,1,3)\n",
        "shuffle_blocks(blocksize=1)\n",
        "plt.imshow(year.T,extent=[year.min(),year.max(),0,5])\n",
        "plt.plot((2000,2000),(0,5), '-',color='black',linewidth=4)\n",
        "plt.plot((2010,2010),(0,5), '-',color='black',linewidth=4)\n",
        "plt.axis('off')\n",
        "plt.title('fully shuffled')\n",
        "\n",
        "plt.figure(figsize=(4,6), dpi=72*2)\n",
        "plt.imshow(year.T,extent=[0,1,0,1])\n",
        "\n",
        "plt.colorbar()\n"
      ],
      "execution_count": null,
      "outputs": []
    },
    {
      "cell_type": "code",
      "metadata": {
        "id": "FUm5zSgtzwF0"
      },
      "source": [
        "import torch, numpy as np\n",
        "from sklearn.model_selection import train_test_split\n",
        "torch.manual_seed(0)\n",
        "\n",
        "# DATA\n",
        "x,y = load_data()\n",
        "\n",
        "shuffle_blocks(blocksize=1)\n",
        "ntrain, nval, ntest = (len(x)*torch.tensor([0.50, 0.25, 0.25])).int()\n",
        "x_train, x_val, xtest = x[:ntrain], x[ntrain:-ntest], x[-ntest:]\n",
        "y_train, y_val, ytest = y[:ntrain], y[ntrain:-ntest], y[-ntest:]\n",
        "\n",
        "print(x_train.shape, x_val.shape, x_test.shape)\n",
        "\n",
        "# MODEL\n",
        "N     = 5\n",
        "x0    = torch.randn(N, requires_grad=True)\n",
        "freq  = torch.randn(N, requires_grad=True)\n",
        "w     = torch.zeros(N, requires_grad=True)\n",
        "def model(x): \n",
        "  return sum(w[i]*torch.sin(freq[i]*np.pi*(x-x0[i])) for i in range(N) ) \n",
        "\n",
        "# CONFIGURE\n",
        "optimizer = torch.optim.AdamW(params = [freq,x0,w], lr=5e-3)\n",
        "loss_fcn  = torch.nn.MSELoss()\n",
        "\n",
        "train_loss, val_loss=[],[]\n",
        "for epoch in range(500+1):\n",
        "\n",
        "  # TRAIN\n",
        "  prediction = model(x_train)\n",
        "  optimizer.zero_grad()\n",
        "  loss = loss_fcn(prediction, y_train)\n",
        "  loss.backward()\n",
        "  optimizer.step()\n",
        "  train_loss.append(loss.item())\n",
        "\n",
        "  # VALIDATE\n",
        "  with torch.no_grad():\n",
        "    \n",
        "    p_val = model(x_val)\n",
        "    loss_val = loss_fcn(p_val, y_val)\n",
        "    val_loss.append(loss_val.item())\n",
        "    plot(interval=50)\n"
      ],
      "execution_count": null,
      "outputs": []
    },
    {
      "cell_type": "markdown",
      "metadata": {
        "id": "cowdNCycntla"
      },
      "source": [
        "**Combine images into a video**"
      ]
    },
    {
      "cell_type": "code",
      "metadata": {
        "id": "9ntneKXqUhTr"
      },
      "source": [
        "!ffmpeg -loglevel warning -i ./images/img_%04d.png -vf scale=1280:-2 -pix_fmt yuv420p -y out.mp4"
      ],
      "execution_count": null,
      "outputs": []
    },
    {
      "cell_type": "markdown",
      "metadata": {
        "id": "XLIAoDNYneYp"
      },
      "source": [
        "**Display video in the notebook**"
      ]
    },
    {
      "cell_type": "code",
      "metadata": {
        "id": "uCRIhYeCsArk"
      },
      "source": [
        "from IPython.display import HTML\n",
        "from base64 import b64encode\n",
        "mp4 = open('out.mp4','rb').read()\n",
        "data_url = \"data:video/mp4;base64,\" + b64encode(mp4).decode()\n",
        "\n",
        "HTML(\"\"\"\n",
        "<video width=800 controls><source src=\"%s\" type=\"video/mp4\"></video>\n",
        "\"\"\" % data_url)"
      ],
      "execution_count": null,
      "outputs": []
    },
    {
      "cell_type": "code",
      "metadata": {
        "id": "-9D87PnaqZ4c"
      },
      "source": [
        "# remove images\n",
        "!rm ./images/img_*.png"
      ],
      "execution_count": null,
      "outputs": []
    }
  ]
}