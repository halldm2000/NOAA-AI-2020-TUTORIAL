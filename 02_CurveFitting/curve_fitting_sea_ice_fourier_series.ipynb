{
  "nbformat": 4,
  "nbformat_minor": 0,
  "metadata": {
    "colab": {
      "name": "curve_fitting_sea_ice_fourier_series_v0.0.ipynb",
      "provenance": [],
      "private_outputs": true,
      "collapsed_sections": [],
      "toc_visible": true,
      "authorship_tag": "ABX9TyNp8wLOEZsOQC0BJ3xBa4mw",
      "include_colab_link": true
    },
    "kernelspec": {
      "name": "python3",
      "display_name": "Python 3"
    }
  },
  "cells": [
    {
      "cell_type": "markdown",
      "metadata": {
        "id": "view-in-github",
        "colab_type": "text"
      },
      "source": [
        "<a href=\"https://colab.research.google.com/github/halldm2000/NOAA-AI-2020-TUTORIAL/blob/master/curve_fitting_sea_ice_fourier_series.ipynb\" target=\"_parent\"><img src=\"https://colab.research.google.com/assets/colab-badge.svg\" alt=\"Open In Colab\"/></a>"
      ]
    },
    {
      "cell_type": "markdown",
      "metadata": {
        "id": "ruOrqn_YloKW"
      },
      "source": [
        "### Curve Fitting with PyTorch\n"
      ]
    },
    {
      "cell_type": "markdown",
      "metadata": {
        "id": "c_RagBKQr8WF"
      },
      "source": [
        "**Download Data**"
      ]
    },
    {
      "cell_type": "code",
      "metadata": {
        "id": "S1m-Rx7Jezwv"
      },
      "source": [
        "source = \"ftp://sidads.colorado.edu/DATASETS/NOAA/G02135/north/daily/data/N_seaice_extent_daily_v3.0.csv\"\n",
        "dest    = \"/content/data/\"\n",
        "!wget  -c -e robots=off -P {dest} {source}"
      ],
      "execution_count": null,
      "outputs": []
    },
    {
      "cell_type": "markdown",
      "metadata": {
        "id": "eBeODfo-rqWt"
      },
      "source": [
        "**Data Loading Routine**\n"
      ]
    },
    {
      "cell_type": "code",
      "metadata": {
        "id": "pZJoJA2YuwW1"
      },
      "source": [
        "import numpy as np\n",
        "import matplotlib.pyplot as plt\n",
        "from sklearn.preprocessing import StandardScaler\n",
        "from datetime import datetime, timedelta\n",
        "\n",
        "# make directory to store images\n",
        "!mkdir -p images\n",
        "\n",
        "def load_data():\n",
        "    global xscaler, yscaler, X,Y,T\n",
        "\n",
        "    # read sea-ice extent data from CSV file\n",
        "    csv    = \"/content/data/N_seaice_extent_daily_v3.0.csv\"\n",
        "    data   = np.loadtxt(csv, skiprows=2, delimiter=',', usecols=(0,1,2,3,4))\n",
        "    extent = data[:,3]\n",
        "    year   = data[:,0]\n",
        "    nrows  = data.shape[0]\n",
        "\n",
        "    # get day of the year\n",
        "    yday   = np.zeros_like(year) \n",
        "    for i in range(nrows):\n",
        "      yr, month, day = data[i,0:3].astype(int)\n",
        "      yday[i] = datetime(yr,month,day).timetuple().tm_yday\n",
        "\n",
        "    # put each variable in column format\n",
        "    X = np.reshape(yday,  (-1,1))\n",
        "    Y = np.reshape(extent,(-1,1))\n",
        "    T = np.reshape(year,  (-1,1))\n",
        "\n",
        "    # scale data to fit in the range -1,1\n",
        "    xscaler = StandardScaler()\n",
        "    yscaler = StandardScaler()\n",
        "    x = torch.from_numpy(xscaler.fit_transform(X))\n",
        "    y = torch.from_numpy(yscaler.fit_transform(Y))\n",
        "\n",
        "    return x,y\n",
        "\n"
      ],
      "execution_count": null,
      "outputs": []
    },
    {
      "cell_type": "markdown",
      "metadata": {
        "id": "ECiLNQPJrwT5"
      },
      "source": [
        "**Plotting Routine**"
      ]
    },
    {
      "cell_type": "code",
      "metadata": {
        "id": "u-wJRUsGmkPO"
      },
      "source": [
        "def plot(interval = 1):\n",
        "\n",
        "  global X,Y\n",
        "\n",
        "  # exit if it's not time to plot\n",
        "  if epoch%interval != 0: return\n",
        "\n",
        "  # plot observations\n",
        "  plt.figure(figsize=(10,7.5),dpi=72*1.25)\n",
        "  plt.scatter(X,Y,c=T,alpha=0.2, s=5)\n",
        "  plt.ylim(Y.min(), Y.max())\n",
        "\n",
        "  # plot curve-fit\n",
        "  Ypred = yscaler.inverse_transform(prediction)\n",
        "  plt.scatter(X,Ypred,c='black',s=5);\n",
        "\n",
        "  # print equation\n",
        "  terms = [f\"${w[i]:+.2f} X^{i} $\" for i in range(len(w))]  \n",
        "  eqn   = \"y =\"+ ''.join(terms)+ f\"     $X = (x - {x0[0]:.3f})$\"\n",
        "  #plt.text(0.5, 1.02, eqn, transform=plt.gca().transAxes, fontsize=10, horizontalalignment='center')\n",
        "\n",
        "  # set title, axis labels\n",
        "  plt.xlabel(\"day of the year\", fontsize=12)\n",
        "  plt.ylabel(\"million sq km \", fontsize=12);\n",
        "  plt.title(f\"Annual Artic Sea-ice Extent   Epoch={epoch}   Training loss={loss.item():.3f}\",fontsize=14)\n",
        "\n",
        "  # save figure to file\n",
        "  plt.savefig(f'./images/img_{epoch//interval:04d}',bbox_inches='tight');\n",
        "  plt.show()"
      ],
      "execution_count": null,
      "outputs": []
    },
    {
      "cell_type": "markdown",
      "metadata": {
        "id": "JFBVV-fepKBi"
      },
      "source": [
        "**Train the Model**\n",
        "\n",
        "We have fit a 3rd order Taylor series to the data. Can we do better?\n",
        "\n",
        "**<font color=\"red\">TODO:</font>**\n",
        "* Try changing the order of the model to N=2, N=5, etc\n",
        "* Add more epochs if neccessary to get a better fit\n",
        "* Adjust the learning rate (lr=...) \n",
        "* Try replacing MSELoss with L1Loss\n",
        "* Increase plotting interval to reduce training time"
      ]
    },
    {
      "cell_type": "code",
      "metadata": {
        "id": "FUm5zSgtzwF0"
      },
      "source": [
        "import torch\n",
        "torch.manual_seed(0)\n",
        "\n",
        "# DATA\n",
        "x,y = load_data()\n",
        "\n",
        "# MODEL\n",
        "N     = 3\n",
        "x0    = torch.randn(N, requires_grad=True)\n",
        "freq  = torch.randn(N, requires_grad=True)\n",
        "w     = torch.zeros(N, requires_grad=True)\n",
        "def model(x): \n",
        "  return sum(w[i]*torch.sin(freq[i]*np.pi*(x-x0[i])) for i in range(N) )\n",
        "\n",
        "# CONFIGURE\n",
        "optimizer = torch.optim.AdamW(params = [x0,freq, w], lr=5e-3)\n",
        "loss_fcn  = torch.nn.MSELoss()\n",
        "\n",
        "for epoch in range(2000+1):\n",
        "\n",
        "  # TRAIN\n",
        "  prediction = model(x)\n",
        "  optimizer.zero_grad()\n",
        "  loss = loss_fcn(prediction, y)\n",
        "  loss.backward()\n",
        "  optimizer.step()\n",
        "\n",
        "  with torch.no_grad(): plot(interval=100)\n"
      ],
      "execution_count": null,
      "outputs": []
    },
    {
      "cell_type": "markdown",
      "metadata": {
        "id": "cowdNCycntla"
      },
      "source": [
        "**Combine images into a video**"
      ]
    },
    {
      "cell_type": "code",
      "metadata": {
        "id": "9ntneKXqUhTr"
      },
      "source": [
        "!ffmpeg -loglevel warning -i ./images/img_%04d.png -vf scale=1280:-2 -pix_fmt yuv420p -y out.mp4"
      ],
      "execution_count": null,
      "outputs": []
    },
    {
      "cell_type": "markdown",
      "metadata": {
        "id": "XLIAoDNYneYp"
      },
      "source": [
        "**Display video in the notebook**"
      ]
    },
    {
      "cell_type": "code",
      "metadata": {
        "id": "uCRIhYeCsArk"
      },
      "source": [
        "from IPython.display import HTML\n",
        "from base64 import b64encode\n",
        "mp4 = open('out.mp4','rb').read()\n",
        "data_url = \"data:video/mp4;base64,\" + b64encode(mp4).decode()\n",
        "\n",
        "HTML(\"\"\"\n",
        "<video width=800 controls><source src=\"%s\" type=\"video/mp4\"></video>\n",
        "\"\"\" % data_url)"
      ],
      "execution_count": null,
      "outputs": []
    },
    {
      "cell_type": "code",
      "metadata": {
        "id": "-9D87PnaqZ4c"
      },
      "source": [
        "# remove images\n",
        "!rm ./images/img_*.png"
      ],
      "execution_count": null,
      "outputs": []
    }
  ]
}