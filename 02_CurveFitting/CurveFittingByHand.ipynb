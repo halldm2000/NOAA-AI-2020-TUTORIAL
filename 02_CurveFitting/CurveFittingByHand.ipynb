{
  "nbformat": 4,
  "nbformat_minor": 0,
  "metadata": {
    "colab": {
      "name": "CurveFittingByHand.ipynb",
      "provenance": [],
      "collapsed_sections": [],
      "toc_visible": true,
      "include_colab_link": true
    },
    "kernelspec": {
      "name": "python3",
      "display_name": "Python 3"
    }
  },
  "cells": [
    {
      "cell_type": "markdown",
      "metadata": {
        "id": "view-in-github",
        "colab_type": "text"
      },
      "source": [
        "<a href=\"https://colab.research.google.com/github/halldm2000/NOAA-AI-2020-TUTORIAL/blob/master/02_CurveFitting/CurveFittingByHand.ipynb\" target=\"_parent\"><img src=\"https://colab.research.google.com/assets/colab-badge.svg\" alt=\"Open In Colab\"/></a>"
      ]
    },
    {
      "cell_type": "markdown",
      "metadata": {
        "id": "C9fA4Ltukd8Q",
        "colab_type": "text"
      },
      "source": [
        "## **Curve Fitting, the Hard Way**\n",
        "Deep learning is a powerful technique, but it's just a generalization of curve fitting.<br> Let's fit a curve manually to build some intuition.<br>\n",
        "*Note: This works in the Chrome browser, but may not work in other browsers*"
      ]
    },
    {
      "cell_type": "markdown",
      "metadata": {
        "id": "kBTTeFUKO0O5",
        "colab_type": "text"
      },
      "source": [
        "### **Download Code and Data**\n"
      ]
    },
    {
      "cell_type": "code",
      "metadata": {
        "id": "5VXyfFqCVLoo",
        "colab_type": "code",
        "colab": {}
      },
      "source": [
        "!git clone -q https://github.com/halldm2000/NOAA-AI-2020-TUTORIAL\n",
        "%cd /content/NOAA-AI-2020-TUTORIAL/02_CurveFitting/"
      ],
      "execution_count": 0,
      "outputs": []
    },
    {
      "cell_type": "markdown",
      "metadata": {
        "id": "OCvOFnH-yd_7",
        "colab_type": "text"
      },
      "source": [
        "### **Fit a Trend Line Manually**\n",
        "\n",
        "Try to fit a trend line to Mauna Loa CO2 observations by manually adjusting the slope **m** and y-intercept **b**."
      ]
    },
    {
      "cell_type": "code",
      "metadata": {
        "id": "K5QNcM_eyJhD",
        "colab_type": "code",
        "colab": {}
      },
      "source": [
        "from tutorial import load_co2_data, plot_co2_data\n",
        "import ipywidgets as widgets\n",
        "\n",
        "# Load data: x = years since 1974  y=CO2 ppm\n",
        "x,y = load_co2_data(); \n",
        "\n",
        "# Plot data and trend line each time parameters are adjusted\n",
        "def fit(m,b): plot_co2_data(x, y, ypred = m*x + b)\n",
        "\n",
        "# Use interactive sliders to adjust parameters\n",
        "mslider = widgets.FloatSlider(min=0  ,max=3  ,step=0.01, continuous_update = False)\n",
        "bslider = widgets.FloatSlider(min=320,max=360,step=0.10, continuous_update = False)\n",
        "iplot   = widgets.interactive(fit, m=mslider, b=bslider)\n",
        "iplot.children[-1].layout.height='800px'\n",
        "iplot"
      ],
      "execution_count": 0,
      "outputs": []
    },
    {
      "cell_type": "markdown",
      "metadata": {
        "id": "OFj7MdqbbpT2",
        "colab_type": "text"
      },
      "source": [
        "### **Add a loss function**\n",
        "\n",
        "Add a loss function to quantify how good the fit is."
      ]
    },
    {
      "cell_type": "code",
      "metadata": {
        "id": "7_ShO184jTpz",
        "colab_type": "code",
        "colab": {}
      },
      "source": [
        "from numpy import sum, abs\n",
        "\n",
        "# Plot data, trend line and loss value\n",
        "def fit_with_loss(m,b):\n",
        "\n",
        "  ypred = m*x + b\n",
        "  loss  = sum( abs(ypred-y) / y.size ) # get average CO2 error in ppm\n",
        "  plot_co2_data(x, y, ypred, loss)\n",
        "\n",
        "iplot = widgets.interactive(fit_with_loss, m=mslider, b=bslider)\n",
        "iplot.children[-1].layout.height='800px'\n",
        "iplot"
      ],
      "execution_count": 0,
      "outputs": []
    },
    {
      "cell_type": "markdown",
      "metadata": {
        "id": "hZl3VOVjRxu4",
        "colab_type": "text"
      },
      "source": [
        "### **TODO: Add gradient information**\n",
        "\n",
        "By computing the gradient, we can estimate which way to move each slider, and by how much"
      ]
    },
    {
      "cell_type": "markdown",
      "metadata": {
        "id": "Q8QcpA_i0D9n",
        "colab_type": "text"
      },
      "source": [
        "### **Plot Loss as a Function of Slope m and Intercept b**"
      ]
    },
    {
      "cell_type": "code",
      "metadata": {
        "id": "2B8zhNbg0RKS",
        "colab_type": "code",
        "colab": {}
      },
      "source": [
        "import numpy as np\n",
        "import matplotlib.pyplot as plt\n",
        "\n",
        "def loss(m,b):\n",
        "  y_pred = m*x + b\n",
        "  L = 1\n",
        "  loss = sum( abs(y_pred-y)**L / y.size )**(1/L)\n",
        "  return loss\n",
        "\n",
        "# compute losses at each point on a grid\n",
        "N = 101\n",
        "mrange = np.linspace(-1  ,4  , N)\n",
        "brange = np.linspace(250,400, N)\n",
        "losses = np.array([[loss(m,b) for m in mrange] for b in brange])\n",
        "\n",
        "# find smallest loss on the grid\n",
        "bi,mi = np.unravel_index(np.argmin(losses),losses.shape)\n",
        "mmin = mrange[mi]\n",
        "bmin = brange[bi]\n",
        "lmin = np.min(losses)\n",
        "print(f\"m={mmin:.2f} b={bmin:.2f} loss={lmin:.2f}\")\n",
        "\n",
        "# plot loss surface using filled contours and mark minimum point\n",
        "plt.figure(figsize=(10,10))\n",
        "plt.contour(mrange,brange,losses,colors='w',levels=60,linewidths=0.5)\n",
        "plt.contourf(mrange,brange,losses,levels=60,cmap='terrain')\n",
        "plt.xlabel('m'); plt.ylabel('b')\n",
        "plt.colorbar()\n",
        "plt.scatter(mmin,bmin,color='r');"
      ],
      "execution_count": 0,
      "outputs": []
    },
    {
      "cell_type": "code",
      "metadata": {
        "id": "qeFozMmVIIza",
        "colab_type": "code",
        "colab": {}
      },
      "source": [
        ""
      ],
      "execution_count": 0,
      "outputs": []
    }
  ]
}