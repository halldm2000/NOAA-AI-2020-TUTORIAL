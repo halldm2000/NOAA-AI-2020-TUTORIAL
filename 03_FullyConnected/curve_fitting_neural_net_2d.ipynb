{
  "nbformat": 4,
  "nbformat_minor": 0,
  "metadata": {
    "colab": {
      "name": "curve_fitting_neural_net_2d_v0.1.ipynb",
      "provenance": [],
      "private_outputs": true,
      "collapsed_sections": [],
      "toc_visible": true,
      "include_colab_link": true
    },
    "kernelspec": {
      "name": "python3",
      "display_name": "Python 3"
    }
  },
  "cells": [
    {
      "cell_type": "markdown",
      "metadata": {
        "id": "view-in-github",
        "colab_type": "text"
      },
      "source": [
        "<a href=\"https://colab.research.google.com/github/halldm2000/NOAA-AI-2020-TUTORIAL/blob/master/03_FullyConnected/curve_fitting_neural_net_2d.ipynb\" target=\"_parent\"><img src=\"https://colab.research.google.com/assets/colab-badge.svg\" alt=\"Open In Colab\"/></a>"
      ]
    },
    {
      "cell_type": "markdown",
      "metadata": {
        "id": "ruOrqn_YloKW"
      },
      "source": [
        "### Curve Fitting with PyTorch, 2D\n"
      ]
    },
    {
      "cell_type": "markdown",
      "metadata": {
        "id": "c_RagBKQr8WF"
      },
      "source": [
        "**Download Data**"
      ]
    },
    {
      "cell_type": "code",
      "metadata": {
        "id": "S1m-Rx7Jezwv"
      },
      "source": [
        "source = \"ftp://sidads.colorado.edu/DATASETS/NOAA/G02135/north/daily/data/N_seaice_extent_daily_v3.0.csv\"\n",
        "dest    = \"/content/data/\"\n",
        "!wget  -c -e robots=off -P {dest} {source}"
      ],
      "execution_count": null,
      "outputs": []
    },
    {
      "cell_type": "markdown",
      "metadata": {
        "id": "eBeODfo-rqWt"
      },
      "source": [
        "**Data Loading Routine**\n"
      ]
    },
    {
      "cell_type": "code",
      "metadata": {
        "id": "pZJoJA2YuwW1"
      },
      "source": [
        "import numpy as np\n",
        "import matplotlib.pyplot as plt\n",
        "from sklearn.preprocessing import StandardScaler\n",
        "from datetime import datetime, timedelta\n",
        "import torch, numpy as np\n",
        "\n",
        "# make directory to store images\n",
        "!mkdir -p images\n",
        "\n",
        "def load_data():\n",
        "  global xscaler, yscaler, X,Y\n",
        "\n",
        "  # read sea-ice extent data from CSV file\n",
        "  csv    = \"/content/data/N_seaice_extent_daily_v3.0.csv\"\n",
        "  data   = np.loadtxt(csv, skiprows=2, delimiter=',', usecols=(0,1,2,3,4))\n",
        "  extent = data[:,3].astype(\"float32\")\n",
        "  year   = data[:,0].astype(\"float32\")\n",
        "  nrows  = data.shape[0]\n",
        "\n",
        "  # get day of the year\n",
        "  yday   = np.zeros_like(year) \n",
        "  for i in range(nrows):\n",
        "    yr, month, day = data[i,0:3].astype(int)\n",
        "    yday[i] = datetime(yr,month,day).timetuple().tm_yday\n",
        "  \n",
        "  # put variables in column format\n",
        "  yday  = np.reshape(yday,  (-1,1))\n",
        "  year  = np.reshape(year,  (-1,1))\n",
        "  extent= np.reshape(extent,(-1,1))\n",
        "\n",
        "  Y = extent\n",
        "  X = np.hstack( (year,yday))\n",
        "\n",
        "  # fir data in range [-1,1]\n",
        "  xscaler = StandardScaler()\n",
        "  yscaler = StandardScaler()\n",
        "  x = torch.tensor(xscaler.fit_transform(X))\n",
        "  y = torch.tensor(yscaler.fit_transform(Y))\n",
        "  return x,y\n",
        "  \n",
        "def shuffle_blocks(blocksize = 365):\n",
        "  global x,y,X,Y\n",
        "  \n",
        "  nrows = len(x)//blocksize\n",
        "  inds  = torch.arange(0,nrows*blocksize)\n",
        "  inds  = inds.view(nrows, blocksize)\n",
        "  inds  = inds[torch.randperm(nrows),:].flatten()\n",
        "  x,y,X,Y = x[inds], y[inds], X[inds], Y[inds]\n",
        "  "
      ],
      "execution_count": null,
      "outputs": []
    },
    {
      "cell_type": "markdown",
      "metadata": {
        "id": "ECiLNQPJrwT5"
      },
      "source": [
        "**Plotting Routine**"
      ]
    },
    {
      "cell_type": "code",
      "metadata": {
        "id": "u-wJRUsGmkPO"
      },
      "source": [
        "%matplotlib inline\n",
        "import matplotlib.pyplot as plt\n",
        "from mpl_toolkits.mplot3d import Axes3D\n",
        "\n",
        "def plot(interval = 1):\n",
        "\n",
        "  global X,Y, X_train, Y_train, X_val, Y_val\n",
        "\n",
        "  # exit if it's not time to plot\n",
        "  if epoch%interval != 0: return\n",
        "\n",
        "  if(epoch==0):\n",
        "    X_train = xscaler.inverse_transform(x_train)\n",
        "    Y_train = yscaler.inverse_transform(y_train)\n",
        "    X_val   = xscaler.inverse_transform(x_val)\n",
        "    Y_val   = yscaler.inverse_transform(y_val)\n",
        "\n",
        "  # plot observations\n",
        "  fig = plt.figure(figsize=(15,10),dpi=72*1.25)\n",
        "\n",
        "  ax = fig.add_subplot(111, projection='3d')#, proj_type = 'ortho')\n",
        "  ax.scatter(X[:,0], X[:,1], Y, c=X[:,0], marker='.',alpha=0.5)\n",
        "  ax.set_xlabel('year')\n",
        "  ax.set_ylabel('day')\n",
        "  ax.set_zlabel('million sq km', rotation=90)\n",
        "  ax.view_init(30, 30)\n",
        "\n",
        "  prediction = model(x)\n",
        "  Y_pred = yscaler.inverse_transform(prediction)\n",
        "  ax.scatter(X[:,0], X[:,1], Y_pred,c='black',s=1, alpha=0.5)\n",
        "  ax.set_zlim(Y.min(), Y.max())\n",
        "\n",
        "  # set title, axis labels\n",
        "  plt.title(f\"Annual Artic Sea-ice Extent   Epoch={epoch}   Validation loss={val_loss[-1]:.4f}\",fontsize=14)\n",
        "  ax.set_xlabel('year')\n",
        "  ax.set_ylabel('day of the year')\n",
        "  ax.set_zlabel('million sq km')\n",
        "\n",
        "  # plot train and validation loss\n",
        "  #plt.subplot(1,2,2)\n",
        "  #epochs = range( len(train_loss) )\n",
        "  #plt.semilogy(epochs, train_loss, label=\"training loss\")\n",
        "  #plt.semilogy(epochs, val_loss,'g', label=\"validation loss\")\n",
        "  #plt.xlabel('epoch')\n",
        "  #plt.ylabel('average error')\n",
        "  #plt.ylim(bottom=5e-3)\n",
        "  #plt.legend()\n",
        "\n",
        "  # save figure to file\n",
        "  plt.savefig(f'./images/img_{epoch//interval:04d}',bbox_inches='tight');\n",
        "  plt.show()"
      ],
      "execution_count": null,
      "outputs": []
    },
    {
      "cell_type": "markdown",
      "metadata": {
        "id": "_F-L5MCP75EX"
      },
      "source": [
        "**Training and Validation**"
      ]
    },
    {
      "cell_type": "code",
      "metadata": {
        "id": "FUm5zSgtzwF0"
      },
      "source": [
        "import torch, torch.nn as nn, numpy as np\n",
        "torch.manual_seed(0)\n",
        "\n",
        "# DATA\n",
        "x,y = load_data()\n",
        "shuffle_blocks(blocksize=100)\n",
        "ntrain, nval, ntest = (len(x)*torch.tensor([0.50, 0.25, 0.25])).int()\n",
        "x_train, x_val, xtest = x[:ntrain], x[ntrain:-ntest], x[-ntest:]\n",
        "y_train, y_val, ytest = y[:ntrain], y[ntrain:-ntest], y[-ntest:]\n",
        "\n",
        "# MODEL\n",
        "N = 30\n",
        "model = nn.Sequential(nn.Linear(2,N), nn.ReLU(), nn.Linear(N,1))\n",
        "\n",
        "# CONFIGURE\n",
        "optimizer = torch.optim.AdamW(params = model.parameters(), lr=1e-2)\n",
        "loss_fcn  = torch.nn.MSELoss()\n",
        "\n",
        "train_loss, val_loss=[],[]\n",
        "for epoch in range(200+1):\n",
        "\n",
        "  # TRAIN\n",
        "  prediction = model(x_train)\n",
        "  optimizer.zero_grad()\n",
        "  loss = loss_fcn(prediction, y_train)\n",
        "  loss.backward()\n",
        "  optimizer.step()\n",
        "  train_loss.append(loss.item())\n",
        "\n",
        "  # VALIDATE\n",
        "  with torch.no_grad():\n",
        "\n",
        "    p_val = model(x_val)\n",
        "    loss_val = loss_fcn(p_val, y_val)\n",
        "    val_loss.append(loss_val.item())\n",
        "    plot(interval=1)\n"
      ],
      "execution_count": null,
      "outputs": []
    },
    {
      "cell_type": "markdown",
      "metadata": {
        "id": "cowdNCycntla"
      },
      "source": [
        "**Combine images into a video**"
      ]
    },
    {
      "cell_type": "code",
      "metadata": {
        "id": "9ntneKXqUhTr"
      },
      "source": [
        "!ffmpeg -loglevel warning -i ./images/img_%04d.png -vf scale=1280:-2 -pix_fmt yuv420p -y out.mp4"
      ],
      "execution_count": null,
      "outputs": []
    },
    {
      "cell_type": "markdown",
      "metadata": {
        "id": "XLIAoDNYneYp"
      },
      "source": [
        "**Display video in the notebook**"
      ]
    },
    {
      "cell_type": "code",
      "metadata": {
        "id": "uCRIhYeCsArk"
      },
      "source": [
        "from IPython.display import HTML\n",
        "from base64 import b64encode\n",
        "mp4 = open('out.mp4','rb').read()\n",
        "data_url = \"data:video/mp4;base64,\" + b64encode(mp4).decode()\n",
        "\n",
        "HTML(\"\"\"\n",
        "<video width=1200 controls><source src=\"%s\" type=\"video/mp4\"></video>\n",
        "\"\"\" % data_url)"
      ],
      "execution_count": null,
      "outputs": []
    },
    {
      "cell_type": "code",
      "metadata": {
        "id": "-9D87PnaqZ4c"
      },
      "source": [
        "# remove images\n",
        "!rm ./images/img_*.png"
      ],
      "execution_count": null,
      "outputs": []
    },
    {
      "cell_type": "code",
      "metadata": {
        "id": "YhkAg0C8Kp6y"
      },
      "source": [
        ""
      ],
      "execution_count": null,
      "outputs": []
    }
  ]
}